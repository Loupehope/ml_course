{
 "cells": [
  {
   "cell_type": "code",
   "execution_count": 2,
   "id": "static-noise",
   "metadata": {},
   "outputs": [],
   "source": [
    "import pandas as pd\n",
    "import numpy as np\n",
    "\n",
    "# Models\n",
    "from statsmodels.stats.outliers_influence import variance_inflation_factor\n",
    "import sklearn.metrics as metrics\n",
    "from sklearn.linear_model import LinearRegression, Lasso, Ridge, LassoCV, RidgeCV\n",
    "from sklearn.preprocessing import StandardScaler\n",
    "from sklearn.preprocessing import MinMaxScaler\n",
    "from sklearn.model_selection import train_test_split\n",
    "from sklearn.ensemble import RandomForestRegressor\n",
    "\n",
    "# Plot\n",
    "import matplotlib.pyplot as plt\n",
    "import seaborn as sns\n",
    "\n",
    "# Settings\n",
    "from varname import nameof\n",
    "from sklearn.metrics import matthews_corrcoef\n",
    "\n",
    "np.set_printoptions(precision=3)\n",
    "pd.set_option('precision', 3)\n",
    "\n",
    "sns.set()"
   ]
  },
  {
   "cell_type": "markdown",
   "id": "medical-hypothesis",
   "metadata": {},
   "source": [
    "### Клиенты телекоммуникационной компании \n",
    "\n",
    "У вас есть набор данных от некой телекоммуникационной компании. Данные содержат информацию о пользователях компании, их демографических характеристиках, услугах, которыми они пользуются, продолжительности пользования услугами компании, способе оплаты и размере оплаты.\n",
    "\n",
    "Задача состоит в том, чтобы проанализировать данные и спрогнозировать отток пользователей (выявить людей, которые будут и не будут продлевать свой контракт с компанией).\n",
    "\n",
    "\n",
    "Gender - пол (male / female) <br>\n",
    "Senior - пенсионер или нет (1, 0)<br>\n",
    "Married - состоит ли в браке (Yes, No) <br>\n",
    "Tenure - сколько месяцев человек является клиентом компании<br>\n",
    "Phone - подключен ли телефон (Yes, No)<br>\n",
    "MultiplePhone - подключено ли несколько телефонных каналов (Yes, No, No phone service)<br>\n",
    "Internet - предоставляются ли услуги интернет соединения (DSL, Fiber optic, No)<br>\n",
    "Security - подключен ли сервис интернет-безопасности (Yes, No, No internet service)<br>\n",
    "Backup - активирована ли служба онлайн-резервного копирования (Yes, No, No internet service)<br>\n",
    "Insurance - есть ли у клиента страховка оборудования (Yes, No, No internet service)<br>\n",
    "Support - подключена ли служба технической поддержки (Yes, No, No internet service)<br>\n",
    "TV - подключена ли служба потокового телевидения (Yes, No, No internet service)<br>\n",
    "Movies - активирован ли сервис потокового кино (Yes, No, No internet service)<br>\n",
    "Contract - тип клиентского контракта (Month-to-month, One year, Two year)<br>\n",
    "EBilling - использует ли клиент безбумажный биллинг (Yes, No)<br>\n",
    "PaymentMethod - способ оплаты (Electronic check, Mailed check, Bank transfer (automatic), Credit card (automatic))<br>\n",
    "MonthlyCharges - текущий ежемесячный платеж<br>\n",
    "TotalCharges - общая сумма, которую клиент заплатил за услуги за все время<br>\n",
    "Churn - покинул ли клиент компанию (Yes or No)<br>"
   ]
  },
  {
   "cell_type": "code",
   "execution_count": 25,
   "id": "genuine-october",
   "metadata": {},
   "outputs": [],
   "source": [
    "test = pd.read_csv(\"test.csv\", index_col=0)"
   ]
  },
  {
   "cell_type": "code",
   "execution_count": 26,
   "id": "regional-procedure",
   "metadata": {},
   "outputs": [],
   "source": [
    "data = pd.read_csv('train.csv', index_col=0)"
   ]
  },
  {
   "cell_type": "code",
   "execution_count": 27,
   "id": "charitable-stephen",
   "metadata": {},
   "outputs": [],
   "source": [
    "# Поле для экспериментов"
   ]
  },
  {
   "cell_type": "code",
   "execution_count": 28,
   "id": "based-pencil",
   "metadata": {},
   "outputs": [],
   "source": [
    "data.TotalCharges = data.TotalCharges.replace(' ', 0).astype(float)"
   ]
  },
  {
   "cell_type": "code",
   "execution_count": 29,
   "id": "developing-religion",
   "metadata": {},
   "outputs": [],
   "source": [
    "test.TotalCharges = test.TotalCharges.replace(' ', 0).astype(float)"
   ]
  },
  {
   "cell_type": "code",
   "execution_count": 30,
   "id": "individual-chair",
   "metadata": {},
   "outputs": [],
   "source": [
    "data = data.replace({'Gender': {'Female': 1, 'Male': 0}, \n",
    "                     #'Married': {'Yes': 1, 'No': 0}, \n",
    "                     'Phone': {'Yes': 1, 'No': 0},\n",
    "                     #'EBilling': {'Yes': 1, 'No': 0}, \n",
    "                     #'Dependents': {'Yes': 1, 'No': 0}, \n",
    "                     'MultiplePhones': {'Yes': 1, 'No': 0, 'No phone service': 0}, \n",
    "                     'Security': {'Yes': 1, 'No': 0, 'No internet service': 0}, \n",
    "                     'Backup': {'Yes': 1, 'No': 0, 'No internet service': 0}, \n",
    "                     'Insurance': {'Yes': 1, 'No': 0, 'No internet service': 0}, \n",
    "                     'Support': {'Yes': 1, 'No': 0, 'No internet service': 0}, \n",
    "                     'TV': {'Yes': 1, 'No': 0, 'No internet service': 0}, \n",
    "                     'Movies': {'Yes': 1, 'No': 0, 'No internet service': 0}, \n",
    "                     'Contract': {'Month-to-month': 0, 'One year': 1, 'Two year': 2}, \n",
    "                     'Internet': {'Fiber optic': 1, 'DSL': 2, 'No': 0}, \n",
    "                    })"
   ]
  },
  {
   "cell_type": "code",
   "execution_count": 31,
   "id": "academic-fashion",
   "metadata": {},
   "outputs": [],
   "source": [
    "test = test.replace({'Gender': {'Female': 1, 'Male': 0}, \n",
    "                     #'Married': {'Yes': 1, 'No': 0}, \n",
    "                     'Phone': {'Yes': 1, 'No': 0},\n",
    "                     #'EBilling': {'Yes': 1, 'No': 0}, \n",
    "                     #'Dependents': {'Yes': 1, 'No': 0}, \n",
    "                     'MultiplePhones': {'Yes': 1, 'No': 0, 'No phone service': 0}, \n",
    "                     'Security': {'Yes': 1, 'No': 0, 'No internet service': 0}, \n",
    "                     'Backup': {'Yes': 1, 'No': 0, 'No internet service': 0}, \n",
    "                     'Insurance': {'Yes': 1, 'No': 0, 'No internet service': 0}, \n",
    "                     'Support': {'Yes': 1, 'No': 0, 'No internet service': 0}, \n",
    "                     'TV': {'Yes': 1, 'No': 0, 'No internet service': 0}, \n",
    "                     'Movies': {'Yes': 1, 'No': 0, 'No internet service': 0}, \n",
    "                     'Contract': {'Month-to-month': 0, 'One year': 1, 'Two year': 2}, \n",
    "                     'Internet': {'Fiber optic': 1, 'DSL': 2, 'No': 0}, \n",
    "                    })"
   ]
  },
  {
   "cell_type": "code",
   "execution_count": 32,
   "id": "returning-regulation",
   "metadata": {},
   "outputs": [],
   "source": [
    "# Выбираем только числовые столбцы"
   ]
  },
  {
   "cell_type": "code",
   "execution_count": 33,
   "id": "organizational-harvard",
   "metadata": {},
   "outputs": [],
   "source": [
    "train_numeric_data = data.select_dtypes(include=np.number)\n",
    "test_numeric_data = test.select_dtypes(include=np.number)"
   ]
  },
  {
   "cell_type": "code",
   "execution_count": 34,
   "id": "unable-ozone",
   "metadata": {},
   "outputs": [],
   "source": [
    "# Обучаем модели"
   ]
  },
  {
   "cell_type": "code",
   "execution_count": 60,
   "id": "thrown-center",
   "metadata": {},
   "outputs": [],
   "source": [
    "from sklearn.model_selection import train_test_split\n",
    "\n",
    "X_train, X_test, Y_train, Y_test = train_test_split(train_numeric_data, \n",
    "                                                    data.Churn,\n",
    "                                                    test_size = 0.25,\n",
    "                                                    random_state = 1234)\n"
   ]
  },
  {
   "cell_type": "code",
   "execution_count": 61,
   "id": "public-conflict",
   "metadata": {},
   "outputs": [
    {
     "data": {
      "text/plain": [
       "0.29487799899827144"
      ]
     },
     "execution_count": 61,
     "metadata": {},
     "output_type": "execute_result"
    }
   ],
   "source": [
    "from sklearn.tree import DecisionTreeClassifier\n",
    "\n",
    "dt = DecisionTreeClassifier()\n",
    "\n",
    "dt.fit(X_train, Y_train)\n",
    "\n",
    "dt_train_predictions = dt.predict(X_test)\n",
    "\n",
    "matthews_corrcoef(Y_test, dt_train_predictions)"
   ]
  },
  {
   "cell_type": "code",
   "execution_count": 62,
   "id": "appreciated-toddler",
   "metadata": {},
   "outputs": [
    {
     "name": "stdout",
     "output_type": "stream",
     "text": [
      "Tree depth: 17\n",
      "Test evaluation\n"
     ]
    },
    {
     "data": {
      "text/plain": [
       "0.3500151770532414"
      ]
     },
     "execution_count": 62,
     "metadata": {},
     "output_type": "execute_result"
    }
   ],
   "source": [
    "smart_dt = DecisionTreeClassifier(min_samples_leaf = 7, max_depth = 17).fit(X_train, Y_train)\n",
    "print (f'Tree depth: {smart_dt.get_depth()}')\n",
    "\n",
    "print('Test evaluation')\n",
    "sdt_test_predictions = smart_dt.predict (X_test)\n",
    "matthews_corrcoef(Y_test, sdt_test_predictions)"
   ]
  },
  {
   "cell_type": "code",
   "execution_count": 63,
   "id": "exact-execution",
   "metadata": {},
   "outputs": [
    {
     "name": "stdout",
     "output_type": "stream",
     "text": [
      "Fitting 5 folds for each of 32 candidates, totalling 160 fits\n"
     ]
    }
   ],
   "source": [
    "from sklearn.model_selection import GridSearchCV, StratifiedKFold\n",
    "\n",
    "tree_params = {'min_samples_leaf': [5, 7, 9, 11],\n",
    "               'max_depth': [12, 15, 17, 19],\n",
    "               'criterion': ['gini', 'entropy']              \n",
    "              }\n",
    "\n",
    "grid = GridSearchCV(DecisionTreeClassifier(),\n",
    "                    tree_params,\n",
    "                    refit=True,\n",
    "                    scoring='f1_macro',\n",
    "                    n_jobs = -1,\n",
    "                    cv=StratifiedKFold(n_splits = 5),\n",
    "                    verbose=2\n",
    "                   )\n",
    "\n",
    "grid_best_model = grid.fit(X_train, Y_train)"
   ]
  },
  {
   "cell_type": "code",
   "execution_count": 64,
   "id": "vocational-folks",
   "metadata": {},
   "outputs": [
    {
     "name": "stdout",
     "output_type": "stream",
     "text": [
      "Test evaluation\n"
     ]
    },
    {
     "data": {
      "text/plain": [
       "0.35162590639636854"
      ]
     },
     "execution_count": 64,
     "metadata": {},
     "output_type": "execute_result"
    }
   ],
   "source": [
    "print('Test evaluation')\n",
    "gbm_test_predictions = grid_best_model.predict (X_test)\n",
    "matthews_corrcoef(Y_test, gbm_test_predictions)"
   ]
  },
  {
   "cell_type": "code",
   "execution_count": 65,
   "id": "professional-cycle",
   "metadata": {},
   "outputs": [
    {
     "name": "stderr",
     "output_type": "stream",
     "text": [
      "/Users/vladsuhomlinov/.pyenv/versions/3.9.1/lib/python3.9/site-packages/sklearn/linear_model/_logistic.py:763: ConvergenceWarning: lbfgs failed to converge (status=1):\n",
      "STOP: TOTAL NO. of ITERATIONS REACHED LIMIT.\n",
      "\n",
      "Increase the number of iterations (max_iter) or scale the data as shown in:\n",
      "    https://scikit-learn.org/stable/modules/preprocessing.html\n",
      "Please also refer to the documentation for alternative solver options:\n",
      "    https://scikit-learn.org/stable/modules/linear_model.html#logistic-regression\n",
      "  n_iter_i = _check_optimize_result(\n"
     ]
    },
    {
     "data": {
      "text/plain": [
       "0.5027907969295929"
      ]
     },
     "execution_count": 65,
     "metadata": {},
     "output_type": "execute_result"
    }
   ],
   "source": [
    "from sklearn.linear_model import LogisticRegression\n",
    "from sklearn.model_selection import cross_val_predict\n",
    "from sklearn.metrics import confusion_matrix\n",
    "\n",
    "lr = LogisticRegression()\n",
    "\n",
    "lr = lr.fit(X_train, Y_train)\n",
    "\n",
    "lr_test_predictions = lr.predict (X_test)\n",
    "matthews_corrcoef(Y_test, lr_test_predictions)"
   ]
  },
  {
   "cell_type": "code",
   "execution_count": 66,
   "id": "physical-emerald",
   "metadata": {},
   "outputs": [
    {
     "data": {
      "text/plain": [
       "0.3566775086815987"
      ]
     },
     "execution_count": 66,
     "metadata": {},
     "output_type": "execute_result"
    }
   ],
   "source": [
    "from sklearn.neighbors import KNeighborsClassifier\n",
    "knn = KNeighborsClassifier(n_neighbors=7)\n",
    "knn.fit(X_train, Y_train)\n",
    "\n",
    "y_pred = knn.predict(X_test)\n",
    "matthews_corrcoef(Y_test, y_pred)"
   ]
  },
  {
   "cell_type": "code",
   "execution_count": 67,
   "id": "comprehensive-imagination",
   "metadata": {},
   "outputs": [],
   "source": [
    "from sklearn.naive_bayes import GaussianNB\n",
    "\n",
    "nb = GaussianNB()\n",
    "\n",
    "nb.fit(X_train,Y_train)\n",
    "\n",
    "Y_pred_nb = nb.predict(X_test)"
   ]
  },
  {
   "cell_type": "code",
   "execution_count": 68,
   "id": "emerging-bulletin",
   "metadata": {},
   "outputs": [
    {
     "data": {
      "text/plain": [
       "0.4453650234962054"
      ]
     },
     "execution_count": 68,
     "metadata": {},
     "output_type": "execute_result"
    }
   ],
   "source": [
    "matthews_corrcoef(Y_test, Y_pred_nb)"
   ]
  },
  {
   "cell_type": "code",
   "execution_count": 69,
   "id": "specialized-pierce",
   "metadata": {},
   "outputs": [],
   "source": [
    "# Получаем предсказания для тестовых данных"
   ]
  },
  {
   "cell_type": "code",
   "execution_count": 70,
   "id": "ignored-manhattan",
   "metadata": {},
   "outputs": [],
   "source": [
    "predictions_test = lr.predict (test_numeric_data)"
   ]
  },
  {
   "cell_type": "code",
   "execution_count": 71,
   "id": "attempted-snowboard",
   "metadata": {},
   "outputs": [],
   "source": [
    "# Сохраняем данные"
   ]
  },
  {
   "cell_type": "code",
   "execution_count": 74,
   "id": "renewable-metro",
   "metadata": {},
   "outputs": [],
   "source": [
    "predictions_df = pd.DataFrame(data=predictions_test, columns=[\"Churn\"])"
   ]
  },
  {
   "cell_type": "code",
   "execution_count": 75,
   "id": "final-rates",
   "metadata": {},
   "outputs": [
    {
     "data": {
      "text/plain": [
       "False    1860\n",
       "True      535\n",
       "Name: Churn, dtype: int64"
      ]
     },
     "execution_count": 75,
     "metadata": {},
     "output_type": "execute_result"
    }
   ],
   "source": [
    "predictions_df.Churn.value_counts()"
   ]
  },
  {
   "cell_type": "code",
   "execution_count": 76,
   "id": "interesting-furniture",
   "metadata": {},
   "outputs": [],
   "source": [
    "predictions_df.to_csv(index=True, index_label='Index', path_or_buf='sample_submission.csv')"
   ]
  },
  {
   "cell_type": "code",
   "execution_count": null,
   "id": "sitting-slovakia",
   "metadata": {},
   "outputs": [],
   "source": []
  }
 ],
 "metadata": {
  "kernelspec": {
   "display_name": "pyenv",
   "language": "python",
   "name": "pyenv"
  },
  "language_info": {
   "codemirror_mode": {
    "name": "ipython",
    "version": 3
   },
   "file_extension": ".py",
   "mimetype": "text/x-python",
   "name": "python",
   "nbconvert_exporter": "python",
   "pygments_lexer": "ipython3",
   "version": "3.9.1"
  }
 },
 "nbformat": 4,
 "nbformat_minor": 5
}
