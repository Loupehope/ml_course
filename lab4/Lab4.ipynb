{
 "cells": [
  {
   "cell_type": "code",
   "execution_count": 2,
   "id": "burning-focus",
   "metadata": {},
   "outputs": [],
   "source": [
    "import pandas as pd\n",
    "import numpy as np\n",
    "\n",
    "# Models\n",
    "from statsmodels.stats.outliers_influence import variance_inflation_factor\n",
    "import sklearn.metrics as metrics\n",
    "from sklearn.linear_model import LinearRegression, Lasso, Ridge, LassoCV, RidgeCV\n",
    "from sklearn.preprocessing import StandardScaler\n",
    "from sklearn.preprocessing import MinMaxScaler\n",
    "from sklearn.model_selection import train_test_split\n",
    "from sklearn.ensemble import RandomForestRegressor\n",
    "\n",
    "# Plot\n",
    "import matplotlib.pyplot as plt\n",
    "import seaborn as sns\n",
    "\n",
    "# Settings\n",
    "from varname import nameof\n",
    "from sklearn.metrics import matthews_corrcoef\n",
    "\n",
    "np.set_printoptions(precision=3)\n",
    "pd.set_option('precision', 3)\n",
    "\n",
    "sns.set()"
   ]
  },
  {
   "cell_type": "markdown",
   "id": "capable-syracuse",
   "metadata": {},
   "source": [
    "### Клиенты телекоммуникационной компании \n",
    "\n",
    "У вас есть набор данных от некой телекоммуникационной компании. Данные содержат информацию о пользователях компании, их демографических характеристиках, услугах, которыми они пользуются, продолжительности пользования услугами компании, способе оплаты и размере оплаты.\n",
    "\n",
    "Задача состоит в том, чтобы проанализировать данные и спрогнозировать отток пользователей (выявить людей, которые будут и не будут продлевать свой контракт с компанией).\n",
    "\n",
    "\n",
    "Gender - пол (male / female) <br>\n",
    "Senior - пенсионер или нет (1, 0)<br>\n",
    "Married - состоит ли в браке (Yes, No) <br>\n",
    "Tenure - сколько месяцев человек является клиентом компании<br>\n",
    "Phone - подключен ли телефон (Yes, No)<br>\n",
    "MultiplePhone - подключено ли несколько телефонных каналов (Yes, No, No phone service)<br>\n",
    "Internet - предоставляются ли услуги интернет соединения (DSL, Fiber optic, No)<br>\n",
    "Security - подключен ли сервис интернет-безопасности (Yes, No, No internet service)<br>\n",
    "Backup - активирована ли служба онлайн-резервного копирования (Yes, No, No internet service)<br>\n",
    "Insurance - есть ли у клиента страховка оборудования (Yes, No, No internet service)<br>\n",
    "Support - подключена ли служба технической поддержки (Yes, No, No internet service)<br>\n",
    "TV - подключена ли служба потокового телевидения (Yes, No, No internet service)<br>\n",
    "Movies - активирован ли сервис потокового кино (Yes, No, No internet service)<br>\n",
    "Contract - тип клиентского контракта (Month-to-month, One year, Two year)<br>\n",
    "EBilling - использует ли клиент безбумажный биллинг (Yes, No)<br>\n",
    "PaymentMethod - способ оплаты (Electronic check, Mailed check, Bank transfer (automatic), Credit card (automatic))<br>\n",
    "MonthlyCharges - текущий ежемесячный платеж<br>\n",
    "TotalCharges - общая сумма, которую клиент заплатил за услуги за все время<br>\n",
    "Churn - покинул ли клиент компанию (Yes or No)<br>"
   ]
  },
  {
   "cell_type": "code",
   "execution_count": 3,
   "id": "prompt-bermuda",
   "metadata": {},
   "outputs": [],
   "source": [
    "test = pd.read_csv(\"test.csv\", index_col=0)"
   ]
  },
  {
   "cell_type": "code",
   "execution_count": 4,
   "id": "random-struggle",
   "metadata": {},
   "outputs": [],
   "source": [
    "data = pd.read_csv('train.csv', index_col=0)"
   ]
  },
  {
   "cell_type": "code",
   "execution_count": 5,
   "id": "tender-moral",
   "metadata": {},
   "outputs": [],
   "source": [
    "data.TotalCharges = data.TotalCharges.replace(' ', 0).astype(float)"
   ]
  },
  {
   "cell_type": "code",
   "execution_count": 6,
   "id": "tested-corruption",
   "metadata": {},
   "outputs": [],
   "source": [
    "data = data.replace({'Gender': {'Female': 1, 'Male': 0}, \n",
    "                     'Married': {'Yes': 1, 'No': 0}, \n",
    "                     'Phone': {'Yes': 1, 'No': 0},\n",
    "                     #'EBilling': {'Yes': 1, 'No': 0}, \n",
    "                    # 'Dependents': {'Yes': 1, 'No': 0}, \n",
    "                     'MultiplePhones': {'Yes': 1, 'No': 0, 'No phone service': 0}, \n",
    "                     'Security': {'Yes': 1, 'No': 0, 'No internet service': 0}, \n",
    "                     'Backup': {'Yes': 1, 'No': 0, 'No internet service': 0}, \n",
    "                     'Insurance': {'Yes': 1, 'No': 0, 'No internet service': 0}, \n",
    "                     'Support': {'Yes': 1, 'No': 0, 'No internet service': 0}, \n",
    "                     'TV': {'Yes': 1, 'No': 0, 'No internet service': 0}, \n",
    "                     'Movies': {'Yes': 1, 'No': 0, 'No internet service': 0}, \n",
    "                    # 'Contract': {'Month-to-month': 0, 'One year': 1, 'Two year': 2}, \n",
    "                    # 'Internet': {'Fiber optic': 1, 'DSL': 2, 'No': 0}, \n",
    "                    })"
   ]
  },
  {
   "cell_type": "code",
   "execution_count": 7,
   "id": "quiet-genesis",
   "metadata": {},
   "outputs": [
    {
     "data": {
      "text/plain": [
       "Fiber optic    1565\n",
       "DSL            1247\n",
       "No              779\n",
       "Name: Internet, dtype: int64"
      ]
     },
     "execution_count": 7,
     "metadata": {},
     "output_type": "execute_result"
    }
   ],
   "source": [
    "data.Internet.value_counts().head(10)"
   ]
  },
  {
   "cell_type": "code",
   "execution_count": 8,
   "id": "subsequent-collapse",
   "metadata": {},
   "outputs": [
    {
     "ename": "NameError",
     "evalue": "name 'numeric_data' is not defined",
     "output_type": "error",
     "traceback": [
      "\u001b[0;31m---------------------------------------------------------------------------\u001b[0m",
      "\u001b[0;31mNameError\u001b[0m                                 Traceback (most recent call last)",
      "\u001b[0;32m<ipython-input-8-3adb5c1d2d96>\u001b[0m in \u001b[0;36m<module>\u001b[0;34m\u001b[0m\n\u001b[1;32m      1\u001b[0m \u001b[0;32mfrom\u001b[0m \u001b[0msklearn\u001b[0m\u001b[0;34m.\u001b[0m\u001b[0mmodel_selection\u001b[0m \u001b[0;32mimport\u001b[0m \u001b[0mtrain_test_split\u001b[0m\u001b[0;34m\u001b[0m\u001b[0;34m\u001b[0m\u001b[0m\n\u001b[1;32m      2\u001b[0m \u001b[0;34m\u001b[0m\u001b[0m\n\u001b[0;32m----> 3\u001b[0;31m X_train, X_test, Y_train, Y_test = train_test_split(numeric_data, \n\u001b[0m\u001b[1;32m      4\u001b[0m                                                     \u001b[0mdata\u001b[0m\u001b[0;34m.\u001b[0m\u001b[0mChurn\u001b[0m\u001b[0;34m,\u001b[0m\u001b[0;34m\u001b[0m\u001b[0;34m\u001b[0m\u001b[0m\n\u001b[1;32m      5\u001b[0m                                                     \u001b[0mtest_size\u001b[0m \u001b[0;34m=\u001b[0m \u001b[0;36m0.25\u001b[0m\u001b[0;34m,\u001b[0m\u001b[0;34m\u001b[0m\u001b[0;34m\u001b[0m\u001b[0m\n",
      "\u001b[0;31mNameError\u001b[0m: name 'numeric_data' is not defined"
     ]
    }
   ],
   "source": [
    "from sklearn.model_selection import train_test_split\n",
    "\n",
    "X_train, X_test, Y_train, Y_test = train_test_split(numeric_data, \n",
    "                                                    data.Churn,\n",
    "                                                    test_size = 0.25,\n",
    "                                                    random_state = 1234)\n"
   ]
  },
  {
   "cell_type": "code",
   "execution_count": 356,
   "id": "above-nashville",
   "metadata": {},
   "outputs": [
    {
     "data": {
      "text/plain": [
       "array([[-0.966, -0.447, -0.978, ...,  0.831,  0.351,  0.874],\n",
       "       [-0.966, -0.447,  1.022, ..., -1.203,  0.402,  1.407],\n",
       "       [ 1.035, -0.447,  1.022, ..., -1.203, -1.499, -0.833],\n",
       "       ...,\n",
       "       [-0.966, -0.447,  1.022, ..., -1.203, -1.305, -0.677],\n",
       "       [ 1.035, -0.447,  1.022, ..., -1.203, -1.522, -0.807],\n",
       "       [-0.966, -0.447,  1.022, ...,  0.831,  0.164, -0.719]])"
      ]
     },
     "execution_count": 356,
     "metadata": {},
     "output_type": "execute_result"
    }
   ],
   "source": [
    "\n",
    "std_scaler = StandardScaler()\n",
    "\n",
    "X_train = std_scaler.fit_transform(X_train)\n",
    "X_test = std_scaler.transform(X_test)\n",
    "\n",
    "X_train"
   ]
  },
  {
   "cell_type": "code",
   "execution_count": 357,
   "id": "labeled-rabbit",
   "metadata": {},
   "outputs": [
    {
     "data": {
      "text/plain": [
       "0.274063698536832"
      ]
     },
     "execution_count": 357,
     "metadata": {},
     "output_type": "execute_result"
    }
   ],
   "source": [
    "from sklearn.tree import DecisionTreeClassifier\n",
    "\n",
    "dt = DecisionTreeClassifier()\n",
    "\n",
    "dt.fit(X_train, Y_train)\n",
    "\n",
    "dt_train_predictions = dt.predict(X_test)\n",
    "\n",
    "matthews_corrcoef(Y_test, dt_train_predictions)"
   ]
  },
  {
   "cell_type": "code",
   "execution_count": 358,
   "id": "alert-interest",
   "metadata": {},
   "outputs": [
    {
     "name": "stdout",
     "output_type": "stream",
     "text": [
      "Tree depth: 16\n",
      "Test evaluation\n"
     ]
    },
    {
     "data": {
      "text/plain": [
       "0.3819628821898331"
      ]
     },
     "execution_count": 358,
     "metadata": {},
     "output_type": "execute_result"
    }
   ],
   "source": [
    "smart_dt = DecisionTreeClassifier(min_samples_leaf = 7, max_depth = 17).fit(X_train, Y_train)\n",
    "print (f'Tree depth: {smart_dt.get_depth()}')\n",
    "\n",
    "print('Test evaluation')\n",
    "sdt_test_predictions = smart_dt.predict (X_test)\n",
    "matthews_corrcoef(Y_test, sdt_test_predictions)"
   ]
  },
  {
   "cell_type": "code",
   "execution_count": 359,
   "id": "special-bottle",
   "metadata": {},
   "outputs": [
    {
     "name": "stdout",
     "output_type": "stream",
     "text": [
      "Fitting 5 folds for each of 32 candidates, totalling 160 fits\n"
     ]
    }
   ],
   "source": [
    "from sklearn.model_selection import GridSearchCV, StratifiedKFold\n",
    "\n",
    "tree_params = {'min_samples_leaf': [5, 7, 9, 11],\n",
    "               'max_depth': [12, 15, 17, 19],\n",
    "               'criterion': ['gini', 'entropy']              \n",
    "              }\n",
    "\n",
    "grid = GridSearchCV(DecisionTreeClassifier(),\n",
    "                    tree_params,\n",
    "                    refit=True,\n",
    "                    scoring='f1_macro',\n",
    "                    n_jobs = -1,\n",
    "                    cv=StratifiedKFold(n_splits = 5),\n",
    "                    verbose=2\n",
    "                   )\n",
    "\n",
    "grid_best_model = grid.fit(X_train, Y_train)"
   ]
  },
  {
   "cell_type": "code",
   "execution_count": 360,
   "id": "eleven-greek",
   "metadata": {},
   "outputs": [
    {
     "name": "stdout",
     "output_type": "stream",
     "text": [
      "Test evaluation\n"
     ]
    },
    {
     "data": {
      "text/plain": [
       "0.39324566106911457"
      ]
     },
     "execution_count": 360,
     "metadata": {},
     "output_type": "execute_result"
    }
   ],
   "source": [
    "print('Test evaluation')\n",
    "gbm_test_predictions = grid_best_model.predict (X_test)\n",
    "matthews_corrcoef(Y_test, gbm_test_predictions)"
   ]
  },
  {
   "cell_type": "code",
   "execution_count": 361,
   "id": "christian-disease",
   "metadata": {},
   "outputs": [
    {
     "name": "stdout",
     "output_type": "stream",
     "text": [
      "Test evaluation\n"
     ]
    },
    {
     "data": {
      "text/plain": [
       "0.4835270295984913"
      ]
     },
     "execution_count": 361,
     "metadata": {},
     "output_type": "execute_result"
    }
   ],
   "source": [
    "from sklearn.linear_model import LogisticRegression\n",
    "from sklearn.model_selection import cross_val_predict\n",
    "from sklearn.metrics import confusion_matrix\n",
    "\n",
    "lr = LogisticRegression()\n",
    "\n",
    "cv_lr_predictions = cross_val_predict(lr, X_train, Y_train, cv = 5, n_jobs = -1)\n",
    "\n",
    "\n",
    "lr = LogisticRegression().fit(X_train, Y_train)\n",
    "print('Test evaluation')\n",
    "lr_test_predictions = lr.predict (X_test)\n",
    "matthews_corrcoef(Y_test, lr_test_predictions)"
   ]
  },
  {
   "cell_type": "code",
   "execution_count": 362,
   "id": "genuine-brazil",
   "metadata": {},
   "outputs": [
    {
     "data": {
      "text/plain": [
       "0.2940079842876449"
      ]
     },
     "execution_count": 362,
     "metadata": {},
     "output_type": "execute_result"
    }
   ],
   "source": [
    "from sklearn.neighbors import KNeighborsClassifier\n",
    "knn = KNeighborsClassifier(n_neighbors=7)\n",
    "knn.fit(X_train, Y_train)\n",
    "\n",
    "y_pred = knn.predict(X_test)\n",
    "matthews_corrcoef(Y_test, y_pred)"
   ]
  },
  {
   "cell_type": "code",
   "execution_count": 363,
   "id": "indian-airfare",
   "metadata": {},
   "outputs": [],
   "source": [
    "from sklearn.naive_bayes import GaussianNB\n",
    "\n",
    "nb = GaussianNB()\n",
    "\n",
    "nb.fit(X_train,Y_train)\n",
    "\n",
    "Y_pred_nb = nb.predict(X_test)"
   ]
  },
  {
   "cell_type": "code",
   "execution_count": 364,
   "id": "direct-neutral",
   "metadata": {},
   "outputs": [
    {
     "data": {
      "text/plain": [
       "0.3866692768549338"
      ]
     },
     "execution_count": 364,
     "metadata": {},
     "output_type": "execute_result"
    }
   ],
   "source": [
    "matthews_corrcoef(Y_test, Y_pred_nb)"
   ]
  },
  {
   "cell_type": "code",
   "execution_count": null,
   "id": "apart-traffic",
   "metadata": {},
   "outputs": [],
   "source": []
  }
 ],
 "metadata": {
  "kernelspec": {
   "display_name": "pyenv",
   "language": "python",
   "name": "pyenv"
  },
  "language_info": {
   "codemirror_mode": {
    "name": "ipython",
    "version": 3
   },
   "file_extension": ".py",
   "mimetype": "text/x-python",
   "name": "python",
   "nbconvert_exporter": "python",
   "pygments_lexer": "ipython3",
   "version": "3.9.1"
  }
 },
 "nbformat": 4,
 "nbformat_minor": 5
}
