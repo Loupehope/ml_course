{
 "cells": [
  {
   "cell_type": "code",
   "execution_count": 1,
   "id": "novel-thinking",
   "metadata": {},
   "outputs": [],
   "source": [
    "import pandas as pd\n",
    "import numpy as np\n",
    "\n",
    "# Models\n",
    "from statsmodels.stats.outliers_influence import variance_inflation_factor\n",
    "import sklearn.metrics as metrics\n",
    "from sklearn.linear_model import LinearRegression, Lasso, Ridge, LassoCV, RidgeCV\n",
    "from sklearn.preprocessing import StandardScaler\n",
    "from sklearn.preprocessing import MinMaxScaler\n",
    "from sklearn.model_selection import train_test_split\n",
    "from sklearn.ensemble import RandomForestRegressor\n",
    "\n",
    "# Plot\n",
    "import matplotlib.pyplot as plt\n",
    "import seaborn as sns\n",
    "\n",
    "# Settings\n",
    "from varname import nameof\n",
    "from sklearn.metrics import matthews_corrcoef\n",
    "\n",
    "np.set_printoptions(precision=3)\n",
    "pd.set_option('precision', 3)\n",
    "\n",
    "sns.set()"
   ]
  },
  {
   "cell_type": "markdown",
   "id": "forward-devil",
   "metadata": {},
   "source": [
    "### Клиенты телекоммуникационной компании \n",
    "\n",
    "У вас есть набор данных от некой телекоммуникационной компании. Данные содержат информацию о пользователях компании, их демографических характеристиках, услугах, которыми они пользуются, продолжительности пользования услугами компании, способе оплаты и размере оплаты.\n",
    "\n",
    "Задача состоит в том, чтобы проанализировать данные и спрогнозировать отток пользователей (выявить людей, которые будут и не будут продлевать свой контракт с компанией).\n",
    "\n",
    "\n",
    "Gender - пол (male / female) <br>\n",
    "Senior - пенсионер или нет (1, 0)<br>\n",
    "Married - состоит ли в браке (Yes, No) <br>\n",
    "Tenure - сколько месяцев человек является клиентом компании<br>\n",
    "Phone - подключен ли телефон (Yes, No)<br>\n",
    "MultiplePhone - подключено ли несколько телефонных каналов (Yes, No, No phone service)<br>\n",
    "Internet - предоставляются ли услуги интернет соединения (DSL, Fiber optic, No)<br>\n",
    "Security - подключен ли сервис интернет-безопасности (Yes, No, No internet service)<br>\n",
    "Backup - активирована ли служба онлайн-резервного копирования (Yes, No, No internet service)<br>\n",
    "Insurance - есть ли у клиента страховка оборудования (Yes, No, No internet service)<br>\n",
    "Support - подключена ли служба технической поддержки (Yes, No, No internet service)<br>\n",
    "TV - подключена ли служба потокового телевидения (Yes, No, No internet service)<br>\n",
    "Movies - активирован ли сервис потокового кино (Yes, No, No internet service)<br>\n",
    "Contract - тип клиентского контракта (Month-to-month, One year, Two year)<br>\n",
    "EBilling - использует ли клиент безбумажный биллинг (Yes, No)<br>\n",
    "PaymentMethod - способ оплаты (Electronic check, Mailed check, Bank transfer (automatic), Credit card (automatic))<br>\n",
    "MonthlyCharges - текущий ежемесячный платеж<br>\n",
    "TotalCharges - общая сумма, которую клиент заплатил за услуги за все время<br>\n",
    "Churn - покинул ли клиент компанию (Yes or No)<br>"
   ]
  },
  {
   "cell_type": "code",
   "execution_count": 121,
   "id": "rough-recruitment",
   "metadata": {},
   "outputs": [],
   "source": [
    "test = pd.read_csv(\"test.csv\", index_col=0)"
   ]
  },
  {
   "cell_type": "code",
   "execution_count": 122,
   "id": "classified-hospital",
   "metadata": {},
   "outputs": [],
   "source": [
    "data = pd.read_csv('train.csv', index_col=0)"
   ]
  },
  {
   "cell_type": "code",
   "execution_count": 123,
   "id": "falling-project",
   "metadata": {},
   "outputs": [],
   "source": [
    "# Поле для экспериментов"
   ]
  },
  {
   "cell_type": "code",
   "execution_count": 124,
   "id": "metric-diabetes",
   "metadata": {},
   "outputs": [],
   "source": [
    "data.TotalCharges = data.TotalCharges.replace(' ', 0).astype(float)"
   ]
  },
  {
   "cell_type": "code",
   "execution_count": 125,
   "id": "beginning-gateway",
   "metadata": {},
   "outputs": [],
   "source": [
    "test.TotalCharges = test.TotalCharges.replace(' ', 0).astype(float)"
   ]
  },
  {
   "cell_type": "code",
   "execution_count": 126,
   "id": "unavailable-surgeon",
   "metadata": {},
   "outputs": [],
   "source": [
    "data = data.replace({'Gender': {'Female': 1, 'Male': 0}, \n",
    "                     #'Married': {'Yes': 1, 'No': 0}, \n",
    "                     'Phone': {'Yes': 1, 'No': 0},\n",
    "                     'EBilling': {'Yes': 1, 'No': 0}, \n",
    "                     #'Dependents': {'Yes': 1, 'No': 0}, \n",
    "                     #'MultiplePhones': {'Yes': 1, 'No': 0, 'No phone service': 0}, \n",
    "                     'Security': {'Yes': 1, 'No': 0, 'No internet service': 0}, \n",
    "                     'Backup': {'Yes': 1, 'No': 0, 'No internet service': 0}, \n",
    "                     'Insurance': {'Yes': 1, 'No': 0, 'No internet service': 0}, \n",
    "                     'Support': {'Yes': 1, 'No': 0, 'No internet service': 0}, \n",
    "                     'TV': {'Yes': 1, 'No': 0, 'No internet service': 0}, \n",
    "                     'Movies': {'Yes': 1, 'No': 0, 'No internet service': 0}, \n",
    "                     'Contract': {'Month-to-month': 0, 'One year': 1, 'Two year': 2}, \n",
    "                     'Internet': {'Fiber optic': 1, 'DSL': 2, 'No': 0}, \n",
    "                    })"
   ]
  },
  {
   "cell_type": "code",
   "execution_count": 127,
   "id": "anticipated-posting",
   "metadata": {},
   "outputs": [],
   "source": [
    "test = test.replace({'Gender': {'Female': 1, 'Male': 0}, \n",
    "                     #'Married': {'Yes': 1, 'No': 0}, \n",
    "                     'Phone': {'Yes': 1, 'No': 0},\n",
    "                     'EBilling': {'Yes': 1, 'No': 0}, \n",
    "                     #'Dependents': {'Yes': 1, 'No': 0}, \n",
    "                     #'MultiplePhones': {'Yes': 1, 'No': 0, 'No phone service': 0}, \n",
    "                     'Security': {'Yes': 1, 'No': 0, 'No internet service': 0}, \n",
    "                     'Backup': {'Yes': 1, 'No': 0, 'No internet service': 0}, \n",
    "                     'Insurance': {'Yes': 1, 'No': 0, 'No internet service': 0}, \n",
    "                     'Support': {'Yes': 1, 'No': 0, 'No internet service': 0}, \n",
    "                     'TV': {'Yes': 1, 'No': 0, 'No internet service': 0}, \n",
    "                     'Movies': {'Yes': 1, 'No': 0, 'No internet service': 0}, \n",
    "                     'Contract': {'Month-to-month': 0, 'One year': 1, 'Two year': 2}, \n",
    "                     'Internet': {'Fiber optic': 1, 'DSL': 2, 'No': 0}, \n",
    "                    })"
   ]
  },
  {
   "cell_type": "code",
   "execution_count": 128,
   "id": "expanded-respect",
   "metadata": {},
   "outputs": [],
   "source": [
    "# Выбираем только числовые столбцы"
   ]
  },
  {
   "cell_type": "code",
   "execution_count": 129,
   "id": "surface-scene",
   "metadata": {},
   "outputs": [],
   "source": [
    "train_numeric_data = data.select_dtypes(include=np.number)\n",
    "test_numeric_data = test.select_dtypes(include=np.number)"
   ]
  },
  {
   "cell_type": "code",
   "execution_count": 130,
   "id": "sharing-arbitration",
   "metadata": {},
   "outputs": [],
   "source": [
    "# Обучаем модели"
   ]
  },
  {
   "cell_type": "code",
   "execution_count": 131,
   "id": "regulated-restriction",
   "metadata": {},
   "outputs": [],
   "source": [
    "from sklearn.model_selection import train_test_split\n",
    "\n",
    "X_train, X_test, Y_train, Y_test = train_test_split(train_numeric_data, \n",
    "                                                    data.Churn,\n",
    "                                                    test_size = 0.20,\n",
    "                                                    random_state = 1234)\n"
   ]
  },
  {
   "cell_type": "code",
   "execution_count": 132,
   "id": "weighted-newcastle",
   "metadata": {},
   "outputs": [
    {
     "data": {
      "text/plain": [
       "0.27085315589030434"
      ]
     },
     "execution_count": 132,
     "metadata": {},
     "output_type": "execute_result"
    }
   ],
   "source": [
    "from sklearn.tree import DecisionTreeClassifier\n",
    "\n",
    "dt = DecisionTreeClassifier()\n",
    "\n",
    "dt.fit(X_train, Y_train)\n",
    "\n",
    "dt_train_predictions = dt.predict(X_test)\n",
    "\n",
    "matthews_corrcoef(Y_test, dt_train_predictions)"
   ]
  },
  {
   "cell_type": "code",
   "execution_count": 133,
   "id": "endless-tourism",
   "metadata": {},
   "outputs": [
    {
     "name": "stdout",
     "output_type": "stream",
     "text": [
      "Tree depth: 15\n",
      "Test evaluation\n"
     ]
    },
    {
     "data": {
      "text/plain": [
       "0.3747280791291233"
      ]
     },
     "execution_count": 133,
     "metadata": {},
     "output_type": "execute_result"
    }
   ],
   "source": [
    "smart_dt = DecisionTreeClassifier(min_samples_leaf = 7, max_depth = 17).fit(X_train, Y_train)\n",
    "print (f'Tree depth: {smart_dt.get_depth()}')\n",
    "\n",
    "print('Test evaluation')\n",
    "sdt_test_predictions = smart_dt.predict (X_test)\n",
    "matthews_corrcoef(Y_test, sdt_test_predictions)"
   ]
  },
  {
   "cell_type": "code",
   "execution_count": 134,
   "id": "consistent-lunch",
   "metadata": {},
   "outputs": [
    {
     "name": "stdout",
     "output_type": "stream",
     "text": [
      "Fitting 5 folds for each of 32 candidates, totalling 160 fits\n"
     ]
    }
   ],
   "source": [
    "from sklearn.model_selection import GridSearchCV, StratifiedKFold\n",
    "\n",
    "tree_params = {'min_samples_leaf': [5, 7, 9, 11],\n",
    "               'max_depth': [12, 15, 17, 19],\n",
    "               'criterion': ['gini', 'entropy']              \n",
    "              }\n",
    "\n",
    "grid = GridSearchCV(DecisionTreeClassifier(),\n",
    "                    tree_params,\n",
    "                    refit=True,\n",
    "                    scoring='f1_macro',\n",
    "                    n_jobs = -1,\n",
    "                    cv=StratifiedKFold(n_splits = 5),\n",
    "                    verbose=2\n",
    "                   )\n",
    "\n",
    "grid_best_model = grid.fit(X_train, Y_train)"
   ]
  },
  {
   "cell_type": "code",
   "execution_count": 135,
   "id": "alleged-accent",
   "metadata": {},
   "outputs": [
    {
     "name": "stdout",
     "output_type": "stream",
     "text": [
      "Test evaluation\n"
     ]
    },
    {
     "data": {
      "text/plain": [
       "0.40015117535930655"
      ]
     },
     "execution_count": 135,
     "metadata": {},
     "output_type": "execute_result"
    }
   ],
   "source": [
    "print('Test evaluation')\n",
    "gbm_test_predictions = grid_best_model.predict (X_test)\n",
    "matthews_corrcoef(Y_test, gbm_test_predictions)"
   ]
  },
  {
   "cell_type": "code",
   "execution_count": 136,
   "id": "modified-investor",
   "metadata": {},
   "outputs": [
    {
     "name": "stdout",
     "output_type": "stream",
     "text": [
      "Test evaluation\n"
     ]
    },
    {
     "data": {
      "text/plain": [
       "0.47458695229183945"
      ]
     },
     "execution_count": 136,
     "metadata": {},
     "output_type": "execute_result"
    }
   ],
   "source": [
    "from sklearn.linear_model import LogisticRegression\n",
    "from sklearn.model_selection import cross_val_predict\n",
    "from sklearn.metrics import confusion_matrix\n",
    "\n",
    "lr = LogisticRegression(solver='liblinear', max_iter=1000)\n",
    "\n",
    "cv_lr_predictions = cross_val_predict(lr, X_train, Y_train, cv = 5, n_jobs = -1)\n",
    "\n",
    "\n",
    "lr = lr.fit(X_train, Y_train)\n",
    "print('Test evaluation')\n",
    "lr_test_predictions = lr.predict (X_test)\n",
    "matthews_corrcoef(Y_test, lr_test_predictions)"
   ]
  },
  {
   "cell_type": "code",
   "execution_count": 137,
   "id": "random-payroll",
   "metadata": {},
   "outputs": [
    {
     "data": {
      "text/plain": [
       "0.34229639137813295"
      ]
     },
     "execution_count": 137,
     "metadata": {},
     "output_type": "execute_result"
    }
   ],
   "source": [
    "from sklearn.neighbors import KNeighborsClassifier\n",
    "knn = KNeighborsClassifier(n_neighbors=7)\n",
    "knn.fit(X_train, Y_train)\n",
    "\n",
    "y_pred = knn.predict(X_test)\n",
    "matthews_corrcoef(Y_test, y_pred)"
   ]
  },
  {
   "cell_type": "code",
   "execution_count": 138,
   "id": "ambient-content",
   "metadata": {},
   "outputs": [],
   "source": [
    "from sklearn.naive_bayes import GaussianNB\n",
    "\n",
    "nb = GaussianNB()\n",
    "\n",
    "nb.fit(X_train,Y_train)\n",
    "\n",
    "Y_pred_nb = nb.predict(X_test)"
   ]
  },
  {
   "cell_type": "code",
   "execution_count": 139,
   "id": "identified-welsh",
   "metadata": {},
   "outputs": [
    {
     "data": {
      "text/plain": [
       "0.42392563017301976"
      ]
     },
     "execution_count": 139,
     "metadata": {},
     "output_type": "execute_result"
    }
   ],
   "source": [
    "matthews_corrcoef(Y_test, Y_pred_nb)"
   ]
  },
  {
   "cell_type": "code",
   "execution_count": 140,
   "id": "wooden-aluminum",
   "metadata": {},
   "outputs": [],
   "source": [
    "# Получаем предсказания для тестовых данных"
   ]
  },
  {
   "cell_type": "code",
   "execution_count": 141,
   "id": "conservative-phenomenon",
   "metadata": {},
   "outputs": [],
   "source": [
    "predictions_test = lr.predict (test_numeric_data)"
   ]
  },
  {
   "cell_type": "code",
   "execution_count": 142,
   "id": "premier-subscriber",
   "metadata": {},
   "outputs": [],
   "source": [
    "# Сохраняем данные"
   ]
  },
  {
   "cell_type": "code",
   "execution_count": 143,
   "id": "center-tractor",
   "metadata": {},
   "outputs": [],
   "source": [
    "predictions_df = pd.DataFrame(data=predictions_test, columns=[\"Churn\"])"
   ]
  },
  {
   "cell_type": "code",
   "execution_count": 144,
   "id": "overall-dinner",
   "metadata": {},
   "outputs": [
    {
     "data": {
      "text/html": [
       "<div>\n",
       "<style scoped>\n",
       "    .dataframe tbody tr th:only-of-type {\n",
       "        vertical-align: middle;\n",
       "    }\n",
       "\n",
       "    .dataframe tbody tr th {\n",
       "        vertical-align: top;\n",
       "    }\n",
       "\n",
       "    .dataframe thead th {\n",
       "        text-align: right;\n",
       "    }\n",
       "</style>\n",
       "<table border=\"1\" class=\"dataframe\">\n",
       "  <thead>\n",
       "    <tr style=\"text-align: right;\">\n",
       "      <th></th>\n",
       "      <th>Churn</th>\n",
       "    </tr>\n",
       "  </thead>\n",
       "  <tbody>\n",
       "    <tr>\n",
       "      <th>0</th>\n",
       "      <td>False</td>\n",
       "    </tr>\n",
       "    <tr>\n",
       "      <th>1</th>\n",
       "      <td>True</td>\n",
       "    </tr>\n",
       "    <tr>\n",
       "      <th>2</th>\n",
       "      <td>False</td>\n",
       "    </tr>\n",
       "    <tr>\n",
       "      <th>3</th>\n",
       "      <td>False</td>\n",
       "    </tr>\n",
       "    <tr>\n",
       "      <th>4</th>\n",
       "      <td>True</td>\n",
       "    </tr>\n",
       "    <tr>\n",
       "      <th>...</th>\n",
       "      <td>...</td>\n",
       "    </tr>\n",
       "    <tr>\n",
       "      <th>2390</th>\n",
       "      <td>False</td>\n",
       "    </tr>\n",
       "    <tr>\n",
       "      <th>2391</th>\n",
       "      <td>False</td>\n",
       "    </tr>\n",
       "    <tr>\n",
       "      <th>2392</th>\n",
       "      <td>True</td>\n",
       "    </tr>\n",
       "    <tr>\n",
       "      <th>2393</th>\n",
       "      <td>True</td>\n",
       "    </tr>\n",
       "    <tr>\n",
       "      <th>2394</th>\n",
       "      <td>False</td>\n",
       "    </tr>\n",
       "  </tbody>\n",
       "</table>\n",
       "<p>2395 rows × 1 columns</p>\n",
       "</div>"
      ],
      "text/plain": [
       "      Churn\n",
       "0     False\n",
       "1      True\n",
       "2     False\n",
       "3     False\n",
       "4      True\n",
       "...     ...\n",
       "2390  False\n",
       "2391  False\n",
       "2392   True\n",
       "2393   True\n",
       "2394  False\n",
       "\n",
       "[2395 rows x 1 columns]"
      ]
     },
     "execution_count": 144,
     "metadata": {},
     "output_type": "execute_result"
    }
   ],
   "source": [
    "predictions_df"
   ]
  },
  {
   "cell_type": "code",
   "execution_count": 26,
   "id": "accomplished-mason",
   "metadata": {},
   "outputs": [
    {
     "data": {
      "text/plain": [
       "False    1894\n",
       "True      501\n",
       "Name: Churn, dtype: int64"
      ]
     },
     "execution_count": 26,
     "metadata": {},
     "output_type": "execute_result"
    }
   ],
   "source": [
    "predictions_df.Churn.value_counts()"
   ]
  },
  {
   "cell_type": "code",
   "execution_count": 146,
   "id": "phantom-score",
   "metadata": {},
   "outputs": [],
   "source": [
    "predictions_df.to_csv(index=True, index_label='Index', path_or_buf='sample_submission.csv')"
   ]
  },
  {
   "cell_type": "code",
   "execution_count": 145,
   "id": "allied-medium",
   "metadata": {},
   "outputs": [
    {
     "data": {
      "text/plain": [
       "False    1881\n",
       "True      514\n",
       "Name: Churn, dtype: int64"
      ]
     },
     "execution_count": 145,
     "metadata": {},
     "output_type": "execute_result"
    }
   ],
   "source": [
    "predictions_df.Churn.value_counts()"
   ]
  },
  {
   "cell_type": "code",
   "execution_count": null,
   "id": "received-understanding",
   "metadata": {},
   "outputs": [],
   "source": []
  }
 ],
 "metadata": {
  "kernelspec": {
   "display_name": "pyenv",
   "language": "python",
   "name": "pyenv"
  },
  "language_info": {
   "codemirror_mode": {
    "name": "ipython",
    "version": 3
   },
   "file_extension": ".py",
   "mimetype": "text/x-python",
   "name": "python",
   "nbconvert_exporter": "python",
   "pygments_lexer": "ipython3",
   "version": "3.9.1"
  }
 },
 "nbformat": 4,
 "nbformat_minor": 5
}
