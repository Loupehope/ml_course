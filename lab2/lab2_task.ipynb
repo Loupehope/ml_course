{
 "cells": [
  {
   "cell_type": "markdown",
   "metadata": {},
   "source": [
    "# Last FM hometask <br>\n",
    "https://www.kaggle.com/ravichaubey1506/lastfm <br>\n",
    "1. Выбрать данные по странам своей группы (совместно): <br>\n",
    "    3530203_70101: Germany, Netherlands <br>\n",
    "    3530203_70102: Belarus, Ukraine, Poland, Russian Federation<br>\n",
    "    3530903_70301: Sweden, Finland, Norway, Denmark, Iceland<br>\n",
    "    3530903_70302: Spain, Portugal, France, Italy, Belgium<br>\n",
    "    \n",
    "2. Попытаться найти полезные с точки зрения продвижения групп (или еще чего-нибудь) и нетривиальные правила, используя алгоритмы Apriori, FPGrowth, FPMax и всевозможные метрики. Хотя бы 5 правил.\n",
    "3. Вывести эти правила в отдельных ячейках. \n",
    "4. Подумать, как можно было бы использовать полученные правила."
   ]
  },
  {
   "cell_type": "code",
   "execution_count": 3,
   "metadata": {},
   "outputs": [],
   "source": [
    "import pandas as pd\n",
    "import seaborn as sns\n",
    "from mlxtend.frequent_patterns import apriori, association_rules, fpgrowth, fpmax\n",
    "\n",
    "pd.options.display.max_rows = 100"
   ]
  },
  {
   "cell_type": "code",
   "execution_count": 4,
   "metadata": {},
   "outputs": [
    {
     "data": {
      "text/html": [
       "<div>\n",
       "<style scoped>\n",
       "    .dataframe tbody tr th:only-of-type {\n",
       "        vertical-align: middle;\n",
       "    }\n",
       "\n",
       "    .dataframe tbody tr th {\n",
       "        vertical-align: top;\n",
       "    }\n",
       "\n",
       "    .dataframe thead th {\n",
       "        text-align: right;\n",
       "    }\n",
       "</style>\n",
       "<table border=\"1\" class=\"dataframe\">\n",
       "  <thead>\n",
       "    <tr style=\"text-align: right;\">\n",
       "      <th></th>\n",
       "      <th>user</th>\n",
       "      <th>artist</th>\n",
       "      <th>sex</th>\n",
       "      <th>country</th>\n",
       "    </tr>\n",
       "  </thead>\n",
       "  <tbody>\n",
       "    <tr>\n",
       "      <th>0</th>\n",
       "      <td>1</td>\n",
       "      <td>red hot chili peppers</td>\n",
       "      <td>f</td>\n",
       "      <td>Germany</td>\n",
       "    </tr>\n",
       "    <tr>\n",
       "      <th>1</th>\n",
       "      <td>1</td>\n",
       "      <td>the black dahlia murder</td>\n",
       "      <td>f</td>\n",
       "      <td>Germany</td>\n",
       "    </tr>\n",
       "    <tr>\n",
       "      <th>2</th>\n",
       "      <td>1</td>\n",
       "      <td>goldfrapp</td>\n",
       "      <td>f</td>\n",
       "      <td>Germany</td>\n",
       "    </tr>\n",
       "    <tr>\n",
       "      <th>3</th>\n",
       "      <td>1</td>\n",
       "      <td>dropkick murphys</td>\n",
       "      <td>f</td>\n",
       "      <td>Germany</td>\n",
       "    </tr>\n",
       "    <tr>\n",
       "      <th>4</th>\n",
       "      <td>1</td>\n",
       "      <td>le tigre</td>\n",
       "      <td>f</td>\n",
       "      <td>Germany</td>\n",
       "    </tr>\n",
       "  </tbody>\n",
       "</table>\n",
       "</div>"
      ],
      "text/plain": [
       "   user                   artist sex  country\n",
       "0     1    red hot chili peppers   f  Germany\n",
       "1     1  the black dahlia murder   f  Germany\n",
       "2     1                goldfrapp   f  Germany\n",
       "3     1         dropkick murphys   f  Germany\n",
       "4     1                 le tigre   f  Germany"
      ]
     },
     "execution_count": 4,
     "metadata": {},
     "output_type": "execute_result"
    }
   ],
   "source": [
    "data = pd.read_csv(\"lastfm.csv\")\n",
    "data.head()"
   ]
  },
  {
   "cell_type": "code",
   "execution_count": 3,
   "metadata": {},
   "outputs": [],
   "source": [
    "#pip install mlxtend"
   ]
  },
  {
   "cell_type": "markdown",
   "metadata": {},
   "source": [
    "### Скорректируем данные"
   ]
  },
  {
   "cell_type": "code",
   "execution_count": 5,
   "metadata": {},
   "outputs": [],
   "source": [
    "data['country'] = data['country'].str.strip(' ')\n",
    "data['country'] = data['country'].str.capitalize()"
   ]
  },
  {
   "cell_type": "code",
   "execution_count": 6,
   "metadata": {},
   "outputs": [],
   "source": [
    "data['artist'] = data['artist'].str.strip(' ')\n",
    "data['artist'] = data['artist'].str.lower()"
   ]
  },
  {
   "cell_type": "markdown",
   "metadata": {},
   "source": [
    "### Возьмем только Germany, Netherlands"
   ]
  },
  {
   "cell_type": "code",
   "execution_count": 7,
   "metadata": {},
   "outputs": [],
   "source": [
    "data = data[data['country'].isin(['Germany','Netherlands'])]\n",
    "# Netherlands Antilles - don't include"
   ]
  },
  {
   "cell_type": "code",
   "execution_count": 8,
   "metadata": {},
   "outputs": [
    {
     "data": {
      "text/plain": [
       "Germany        24251\n",
       "Netherlands     9673\n",
       "Name: country, dtype: int64"
      ]
     },
     "execution_count": 8,
     "metadata": {},
     "output_type": "execute_result"
    }
   ],
   "source": [
    "data['country'].value_counts()"
   ]
  },
  {
   "cell_type": "markdown",
   "metadata": {},
   "source": [
    "### Проверим пустые и неизвестные значения"
   ]
  },
  {
   "cell_type": "code",
   "execution_count": 9,
   "metadata": {},
   "outputs": [
    {
     "name": "stdout",
     "output_type": "stream",
     "text": [
      "<class 'pandas.core.frame.DataFrame'>\n",
      "Int64Index: 33924 entries, 0 to 289615\n",
      "Data columns (total 4 columns):\n",
      " #   Column   Non-Null Count  Dtype \n",
      "---  ------   --------------  ----- \n",
      " 0   user     33924 non-null  int64 \n",
      " 1   artist   33924 non-null  object\n",
      " 2   sex      33924 non-null  object\n",
      " 3   country  33924 non-null  object\n",
      "dtypes: int64(1), object(3)\n",
      "memory usage: 1.3+ MB\n"
     ]
    }
   ],
   "source": [
    "data.info()"
   ]
  },
  {
   "cell_type": "code",
   "execution_count": 10,
   "metadata": {},
   "outputs": [
    {
     "data": {
      "text/plain": [
       "array(['f', 'm'], dtype=object)"
      ]
     },
     "execution_count": 10,
     "metadata": {},
     "output_type": "execute_result"
    }
   ],
   "source": [
    "data['sex'].unique()"
   ]
  },
  {
   "cell_type": "code",
   "execution_count": 11,
   "metadata": {},
   "outputs": [
    {
     "data": {
      "text/plain": [
       "array(['Germany', 'Netherlands'], dtype=object)"
      ]
     },
     "execution_count": 11,
     "metadata": {},
     "output_type": "execute_result"
    }
   ],
   "source": [
    "data['country'].unique()"
   ]
  },
  {
   "cell_type": "code",
   "execution_count": 12,
   "metadata": {},
   "outputs": [
    {
     "data": {
      "text/plain": [
       "user       95\n",
       "artist     95\n",
       "sex        95\n",
       "country    95\n",
       "dtype: int64"
      ]
     },
     "execution_count": 12,
     "metadata": {},
     "output_type": "execute_result"
    }
   ],
   "source": [
    "data[(data['artist'] == '[unknown]')].count()"
   ]
  },
  {
   "cell_type": "code",
   "execution_count": 13,
   "metadata": {},
   "outputs": [],
   "source": [
    "data = data[(data['artist'] != '[unknown]')]"
   ]
  },
  {
   "cell_type": "code",
   "execution_count": 15,
   "metadata": {},
   "outputs": [
    {
     "data": {
      "text/plain": [
       "user       0\n",
       "artist     0\n",
       "sex        0\n",
       "country    0\n",
       "dtype: int64"
      ]
     },
     "execution_count": 15,
     "metadata": {},
     "output_type": "execute_result"
    }
   ],
   "source": [
    "data[(data['artist'] == '[unknown]')].count()"
   ]
  },
  {
   "cell_type": "markdown",
   "metadata": {},
   "source": [
    "### Проверим данные по артистам"
   ]
  },
  {
   "cell_type": "code",
   "execution_count": 14,
   "metadata": {},
   "outputs": [
    {
     "data": {
      "text/plain": [
       "count    1001.000000\n",
       "mean       33.795205\n",
       "std        35.136747\n",
       "min         1.000000\n",
       "25%        13.000000\n",
       "50%        22.000000\n",
       "75%        41.000000\n",
       "max       296.000000\n",
       "Name: artist, dtype: float64"
      ]
     },
     "execution_count": 14,
     "metadata": {},
     "output_type": "execute_result"
    }
   ],
   "source": [
    "data['artist'].value_counts().describe()"
   ]
  },
  {
   "cell_type": "code",
   "execution_count": 15,
   "metadata": {},
   "outputs": [],
   "source": [
    "### Кажется, что артисты с малым количеством слушателей не явлются релевантными\n",
    "### при поиске паттернов. Возьмем группы со значением больше 10"
   ]
  },
  {
   "cell_type": "code",
   "execution_count": 18,
   "metadata": {},
   "outputs": [],
   "source": [
    "data = data.groupby(['artist']).filter(lambda x: x['artist'].count() > 10.)"
   ]
  },
  {
   "cell_type": "code",
   "execution_count": 19,
   "metadata": {},
   "outputs": [
    {
     "data": {
      "text/plain": [
       "count    826.000000\n",
       "mean      39.480630\n",
       "std       36.195868\n",
       "min       11.000000\n",
       "25%       17.000000\n",
       "50%       27.000000\n",
       "75%       47.000000\n",
       "max      296.000000\n",
       "Name: artist, dtype: float64"
      ]
     },
     "execution_count": 19,
     "metadata": {},
     "output_type": "execute_result"
    }
   ],
   "source": [
    "data['artist'].value_counts().describe()"
   ]
  },
  {
   "cell_type": "code",
   "execution_count": 20,
   "metadata": {},
   "outputs": [],
   "source": [
    "### Проверим данные по пользователям"
   ]
  },
  {
   "cell_type": "code",
   "execution_count": 20,
   "metadata": {},
   "outputs": [
    {
     "data": {
      "text/plain": [
       "count    1722.000000\n",
       "mean       18.937863\n",
       "std        10.127036\n",
       "min         1.000000\n",
       "25%        11.000000\n",
       "50%        19.000000\n",
       "75%        26.000000\n",
       "max        53.000000\n",
       "Name: user, dtype: float64"
      ]
     },
     "execution_count": 20,
     "metadata": {},
     "output_type": "execute_result"
    }
   ],
   "source": [
    "data['user'].value_counts().describe()"
   ]
  },
  {
   "cell_type": "code",
   "execution_count": 22,
   "metadata": {},
   "outputs": [],
   "source": [
    "### Кажется, что пользователи с 1 или 2 числом групп не явлются релевантными\n",
    "### при поиске паттернов. Возьмем пользователей со значением больше 3"
   ]
  },
  {
   "cell_type": "code",
   "execution_count": 21,
   "metadata": {},
   "outputs": [],
   "source": [
    "data = data.groupby(['user']).filter(lambda x: x['user'].count() >= 3.)"
   ]
  },
  {
   "cell_type": "code",
   "execution_count": 22,
   "metadata": {},
   "outputs": [
    {
     "data": {
      "text/plain": [
       "count    1671.000000\n",
       "mean       19.470975\n",
       "std         9.802002\n",
       "min         3.000000\n",
       "25%        11.000000\n",
       "50%        19.000000\n",
       "75%        27.000000\n",
       "max        53.000000\n",
       "Name: user, dtype: float64"
      ]
     },
     "execution_count": 22,
     "metadata": {},
     "output_type": "execute_result"
    }
   ],
   "source": [
    "data['user'].value_counts().describe()"
   ]
  },
  {
   "cell_type": "code",
   "execution_count": 23,
   "metadata": {},
   "outputs": [
    {
     "data": {
      "text/html": [
       "<div>\n",
       "<style scoped>\n",
       "    .dataframe tbody tr th:only-of-type {\n",
       "        vertical-align: middle;\n",
       "    }\n",
       "\n",
       "    .dataframe tbody tr th {\n",
       "        vertical-align: top;\n",
       "    }\n",
       "\n",
       "    .dataframe thead th {\n",
       "        text-align: right;\n",
       "    }\n",
       "</style>\n",
       "<table border=\"1\" class=\"dataframe\">\n",
       "  <thead>\n",
       "    <tr style=\"text-align: right;\">\n",
       "      <th></th>\n",
       "      <th>user</th>\n",
       "      <th>artist</th>\n",
       "      <th>sex</th>\n",
       "      <th>country</th>\n",
       "    </tr>\n",
       "  </thead>\n",
       "  <tbody>\n",
       "    <tr>\n",
       "      <th>0</th>\n",
       "      <td>1</td>\n",
       "      <td>red hot chili peppers</td>\n",
       "      <td>f</td>\n",
       "      <td>Germany</td>\n",
       "    </tr>\n",
       "    <tr>\n",
       "      <th>1</th>\n",
       "      <td>1</td>\n",
       "      <td>the black dahlia murder</td>\n",
       "      <td>f</td>\n",
       "      <td>Germany</td>\n",
       "    </tr>\n",
       "    <tr>\n",
       "      <th>2</th>\n",
       "      <td>1</td>\n",
       "      <td>goldfrapp</td>\n",
       "      <td>f</td>\n",
       "      <td>Germany</td>\n",
       "    </tr>\n",
       "    <tr>\n",
       "      <th>3</th>\n",
       "      <td>1</td>\n",
       "      <td>dropkick murphys</td>\n",
       "      <td>f</td>\n",
       "      <td>Germany</td>\n",
       "    </tr>\n",
       "    <tr>\n",
       "      <th>4</th>\n",
       "      <td>1</td>\n",
       "      <td>le tigre</td>\n",
       "      <td>f</td>\n",
       "      <td>Germany</td>\n",
       "    </tr>\n",
       "  </tbody>\n",
       "</table>\n",
       "</div>"
      ],
      "text/plain": [
       "   user                   artist sex  country\n",
       "0     1    red hot chili peppers   f  Germany\n",
       "1     1  the black dahlia murder   f  Germany\n",
       "2     1                goldfrapp   f  Germany\n",
       "3     1         dropkick murphys   f  Germany\n",
       "4     1                 le tigre   f  Germany"
      ]
     },
     "execution_count": 23,
     "metadata": {},
     "output_type": "execute_result"
    }
   ],
   "source": [
    "data.head()"
   ]
  },
  {
   "cell_type": "markdown",
   "metadata": {},
   "source": [
    "## Поиск правил"
   ]
  },
  {
   "cell_type": "code",
   "execution_count": 24,
   "metadata": {},
   "outputs": [
    {
     "data": {
      "text/html": [
       "<div>\n",
       "<style scoped>\n",
       "    .dataframe tbody tr th:only-of-type {\n",
       "        vertical-align: middle;\n",
       "    }\n",
       "\n",
       "    .dataframe tbody tr th {\n",
       "        vertical-align: top;\n",
       "    }\n",
       "\n",
       "    .dataframe thead th {\n",
       "        text-align: right;\n",
       "    }\n",
       "</style>\n",
       "<table border=\"1\" class=\"dataframe\">\n",
       "  <thead>\n",
       "    <tr style=\"text-align: right;\">\n",
       "      <th></th>\n",
       "      <th>user</th>\n",
       "      <th>country</th>\n",
       "      <th>sex</th>\n",
       "      <th>artist</th>\n",
       "    </tr>\n",
       "  </thead>\n",
       "  <tbody>\n",
       "    <tr>\n",
       "      <th>0</th>\n",
       "      <td>1</td>\n",
       "      <td>Germany</td>\n",
       "      <td>f</td>\n",
       "      <td>red hot chili peppers,the black dahlia murder,...</td>\n",
       "    </tr>\n",
       "    <tr>\n",
       "      <th>1</th>\n",
       "      <td>31</td>\n",
       "      <td>Netherlands</td>\n",
       "      <td>f</td>\n",
       "      <td>jamiroquai,tori amos,jazzanova,radiohead,st. g...</td>\n",
       "    </tr>\n",
       "    <tr>\n",
       "      <th>2</th>\n",
       "      <td>33</td>\n",
       "      <td>Germany</td>\n",
       "      <td>f</td>\n",
       "      <td>death cab for cutie,tegan and sara,kimya dawso...</td>\n",
       "    </tr>\n",
       "    <tr>\n",
       "      <th>3</th>\n",
       "      <td>42</td>\n",
       "      <td>Germany</td>\n",
       "      <td>f</td>\n",
       "      <td>soundtrack,groove coverage,avril lavigne,the r...</td>\n",
       "    </tr>\n",
       "    <tr>\n",
       "      <th>4</th>\n",
       "      <td>51</td>\n",
       "      <td>Germany</td>\n",
       "      <td>f</td>\n",
       "      <td>kate nash,arctic monkeys,lykke li,adele,tegan ...</td>\n",
       "    </tr>\n",
       "    <tr>\n",
       "      <th>...</th>\n",
       "      <td>...</td>\n",
       "      <td>...</td>\n",
       "      <td>...</td>\n",
       "      <td>...</td>\n",
       "    </tr>\n",
       "    <tr>\n",
       "      <th>1666</th>\n",
       "      <td>19662</td>\n",
       "      <td>Germany</td>\n",
       "      <td>m</td>\n",
       "      <td>blind guardian,in extremo,subway to sally,finn...</td>\n",
       "    </tr>\n",
       "    <tr>\n",
       "      <th>1667</th>\n",
       "      <td>19672</td>\n",
       "      <td>Germany</td>\n",
       "      <td>m</td>\n",
       "      <td>system of a down,björk,portishead,the prodigy,...</td>\n",
       "    </tr>\n",
       "    <tr>\n",
       "      <th>1668</th>\n",
       "      <td>19681</td>\n",
       "      <td>Netherlands</td>\n",
       "      <td>m</td>\n",
       "      <td>the strokes,muse,led zeppelin,snow patrol,radi...</td>\n",
       "    </tr>\n",
       "    <tr>\n",
       "      <th>1669</th>\n",
       "      <td>19685</td>\n",
       "      <td>Netherlands</td>\n",
       "      <td>m</td>\n",
       "      <td>philip glass,rammstein,pink floyd,moby,blank &amp;...</td>\n",
       "    </tr>\n",
       "    <tr>\n",
       "      <th>1670</th>\n",
       "      <td>19695</td>\n",
       "      <td>Germany</td>\n",
       "      <td>f</td>\n",
       "      <td>the kills,bright eyes,adam green,cocorosie,dev...</td>\n",
       "    </tr>\n",
       "  </tbody>\n",
       "</table>\n",
       "<p>1671 rows × 4 columns</p>\n",
       "</div>"
      ],
      "text/plain": [
       "       user      country sex  \\\n",
       "0         1      Germany   f   \n",
       "1        31  Netherlands   f   \n",
       "2        33      Germany   f   \n",
       "3        42      Germany   f   \n",
       "4        51      Germany   f   \n",
       "...     ...          ...  ..   \n",
       "1666  19662      Germany   m   \n",
       "1667  19672      Germany   m   \n",
       "1668  19681  Netherlands   m   \n",
       "1669  19685  Netherlands   m   \n",
       "1670  19695      Germany   f   \n",
       "\n",
       "                                                 artist  \n",
       "0     red hot chili peppers,the black dahlia murder,...  \n",
       "1     jamiroquai,tori amos,jazzanova,radiohead,st. g...  \n",
       "2     death cab for cutie,tegan and sara,kimya dawso...  \n",
       "3     soundtrack,groove coverage,avril lavigne,the r...  \n",
       "4     kate nash,arctic monkeys,lykke li,adele,tegan ...  \n",
       "...                                                 ...  \n",
       "1666  blind guardian,in extremo,subway to sally,finn...  \n",
       "1667  system of a down,björk,portishead,the prodigy,...  \n",
       "1668  the strokes,muse,led zeppelin,snow patrol,radi...  \n",
       "1669  philip glass,rammstein,pink floyd,moby,blank &...  \n",
       "1670  the kills,bright eyes,adam green,cocorosie,dev...  \n",
       "\n",
       "[1671 rows x 4 columns]"
      ]
     },
     "execution_count": 24,
     "metadata": {},
     "output_type": "execute_result"
    }
   ],
   "source": [
    "data_by_user = data.groupby(['user', 'country', 'sex'])['artist'].apply(lambda x: ','.join(x).lower().strip()).reset_index()\n",
    "data_by_user"
   ]
  },
  {
   "cell_type": "code",
   "execution_count": 25,
   "metadata": {},
   "outputs": [
    {
     "data": {
      "text/html": [
       "<div>\n",
       "<style scoped>\n",
       "    .dataframe tbody tr th:only-of-type {\n",
       "        vertical-align: middle;\n",
       "    }\n",
       "\n",
       "    .dataframe tbody tr th {\n",
       "        vertical-align: top;\n",
       "    }\n",
       "\n",
       "    .dataframe thead th {\n",
       "        text-align: right;\n",
       "    }\n",
       "</style>\n",
       "<table border=\"1\" class=\"dataframe\">\n",
       "  <thead>\n",
       "    <tr style=\"text-align: right;\">\n",
       "      <th></th>\n",
       "      <th>user</th>\n",
       "      <th>country</th>\n",
       "      <th>sex</th>\n",
       "      <th>artist</th>\n",
       "      <th>...and you will know us by the trail of dead</th>\n",
       "      <th>2pac</th>\n",
       "      <th>3 doors down</th>\n",
       "      <th>30 seconds to mars</th>\n",
       "      <th>36 crazyfists</th>\n",
       "      <th>44</th>\n",
       "      <th>...</th>\n",
       "      <th>venetian snares</th>\n",
       "      <th>vnv nation</th>\n",
       "      <th>volbeat</th>\n",
       "      <th>weezer</th>\n",
       "      <th>within temptation</th>\n",
       "      <th>wolfgang amadeus mozart</th>\n",
       "      <th>yann tiersen</th>\n",
       "      <th>yeah yeah yeahs</th>\n",
       "      <th>yellowcard</th>\n",
       "      <th>zero 7</th>\n",
       "    </tr>\n",
       "  </thead>\n",
       "  <tbody>\n",
       "    <tr>\n",
       "      <th>0</th>\n",
       "      <td>1</td>\n",
       "      <td>Germany</td>\n",
       "      <td>f</td>\n",
       "      <td>red hot chili peppers,the black dahlia murder,...</td>\n",
       "      <td>0</td>\n",
       "      <td>0</td>\n",
       "      <td>0</td>\n",
       "      <td>0</td>\n",
       "      <td>0</td>\n",
       "      <td>0</td>\n",
       "      <td>...</td>\n",
       "      <td>0</td>\n",
       "      <td>0</td>\n",
       "      <td>0</td>\n",
       "      <td>0</td>\n",
       "      <td>0</td>\n",
       "      <td>0</td>\n",
       "      <td>0</td>\n",
       "      <td>0</td>\n",
       "      <td>0</td>\n",
       "      <td>0</td>\n",
       "    </tr>\n",
       "    <tr>\n",
       "      <th>1</th>\n",
       "      <td>31</td>\n",
       "      <td>Netherlands</td>\n",
       "      <td>f</td>\n",
       "      <td>jamiroquai,tori amos,jazzanova,radiohead,st. g...</td>\n",
       "      <td>0</td>\n",
       "      <td>0</td>\n",
       "      <td>0</td>\n",
       "      <td>0</td>\n",
       "      <td>0</td>\n",
       "      <td>0</td>\n",
       "      <td>...</td>\n",
       "      <td>0</td>\n",
       "      <td>0</td>\n",
       "      <td>0</td>\n",
       "      <td>0</td>\n",
       "      <td>0</td>\n",
       "      <td>0</td>\n",
       "      <td>0</td>\n",
       "      <td>0</td>\n",
       "      <td>0</td>\n",
       "      <td>0</td>\n",
       "    </tr>\n",
       "    <tr>\n",
       "      <th>2</th>\n",
       "      <td>33</td>\n",
       "      <td>Germany</td>\n",
       "      <td>f</td>\n",
       "      <td>death cab for cutie,tegan and sara,kimya dawso...</td>\n",
       "      <td>0</td>\n",
       "      <td>0</td>\n",
       "      <td>0</td>\n",
       "      <td>0</td>\n",
       "      <td>0</td>\n",
       "      <td>0</td>\n",
       "      <td>...</td>\n",
       "      <td>0</td>\n",
       "      <td>0</td>\n",
       "      <td>0</td>\n",
       "      <td>0</td>\n",
       "      <td>0</td>\n",
       "      <td>0</td>\n",
       "      <td>0</td>\n",
       "      <td>0</td>\n",
       "      <td>0</td>\n",
       "      <td>0</td>\n",
       "    </tr>\n",
       "    <tr>\n",
       "      <th>3</th>\n",
       "      <td>42</td>\n",
       "      <td>Germany</td>\n",
       "      <td>f</td>\n",
       "      <td>soundtrack,groove coverage,avril lavigne,the r...</td>\n",
       "      <td>0</td>\n",
       "      <td>0</td>\n",
       "      <td>0</td>\n",
       "      <td>0</td>\n",
       "      <td>0</td>\n",
       "      <td>0</td>\n",
       "      <td>...</td>\n",
       "      <td>0</td>\n",
       "      <td>0</td>\n",
       "      <td>0</td>\n",
       "      <td>0</td>\n",
       "      <td>0</td>\n",
       "      <td>0</td>\n",
       "      <td>0</td>\n",
       "      <td>0</td>\n",
       "      <td>0</td>\n",
       "      <td>0</td>\n",
       "    </tr>\n",
       "    <tr>\n",
       "      <th>4</th>\n",
       "      <td>51</td>\n",
       "      <td>Germany</td>\n",
       "      <td>f</td>\n",
       "      <td>kate nash,arctic monkeys,lykke li,adele,tegan ...</td>\n",
       "      <td>0</td>\n",
       "      <td>0</td>\n",
       "      <td>0</td>\n",
       "      <td>0</td>\n",
       "      <td>0</td>\n",
       "      <td>0</td>\n",
       "      <td>...</td>\n",
       "      <td>0</td>\n",
       "      <td>0</td>\n",
       "      <td>0</td>\n",
       "      <td>0</td>\n",
       "      <td>0</td>\n",
       "      <td>0</td>\n",
       "      <td>0</td>\n",
       "      <td>0</td>\n",
       "      <td>0</td>\n",
       "      <td>0</td>\n",
       "    </tr>\n",
       "    <tr>\n",
       "      <th>...</th>\n",
       "      <td>...</td>\n",
       "      <td>...</td>\n",
       "      <td>...</td>\n",
       "      <td>...</td>\n",
       "      <td>...</td>\n",
       "      <td>...</td>\n",
       "      <td>...</td>\n",
       "      <td>...</td>\n",
       "      <td>...</td>\n",
       "      <td>...</td>\n",
       "      <td>...</td>\n",
       "      <td>...</td>\n",
       "      <td>...</td>\n",
       "      <td>...</td>\n",
       "      <td>...</td>\n",
       "      <td>...</td>\n",
       "      <td>...</td>\n",
       "      <td>...</td>\n",
       "      <td>...</td>\n",
       "      <td>...</td>\n",
       "      <td>...</td>\n",
       "    </tr>\n",
       "    <tr>\n",
       "      <th>1666</th>\n",
       "      <td>19662</td>\n",
       "      <td>Germany</td>\n",
       "      <td>m</td>\n",
       "      <td>blind guardian,in extremo,subway to sally,finn...</td>\n",
       "      <td>0</td>\n",
       "      <td>0</td>\n",
       "      <td>0</td>\n",
       "      <td>0</td>\n",
       "      <td>0</td>\n",
       "      <td>0</td>\n",
       "      <td>...</td>\n",
       "      <td>0</td>\n",
       "      <td>0</td>\n",
       "      <td>0</td>\n",
       "      <td>0</td>\n",
       "      <td>0</td>\n",
       "      <td>1</td>\n",
       "      <td>0</td>\n",
       "      <td>0</td>\n",
       "      <td>0</td>\n",
       "      <td>0</td>\n",
       "    </tr>\n",
       "    <tr>\n",
       "      <th>1667</th>\n",
       "      <td>19672</td>\n",
       "      <td>Germany</td>\n",
       "      <td>m</td>\n",
       "      <td>system of a down,björk,portishead,the prodigy,...</td>\n",
       "      <td>0</td>\n",
       "      <td>0</td>\n",
       "      <td>0</td>\n",
       "      <td>0</td>\n",
       "      <td>0</td>\n",
       "      <td>0</td>\n",
       "      <td>...</td>\n",
       "      <td>0</td>\n",
       "      <td>0</td>\n",
       "      <td>0</td>\n",
       "      <td>0</td>\n",
       "      <td>0</td>\n",
       "      <td>0</td>\n",
       "      <td>0</td>\n",
       "      <td>0</td>\n",
       "      <td>0</td>\n",
       "      <td>0</td>\n",
       "    </tr>\n",
       "    <tr>\n",
       "      <th>1668</th>\n",
       "      <td>19681</td>\n",
       "      <td>Netherlands</td>\n",
       "      <td>m</td>\n",
       "      <td>the strokes,muse,led zeppelin,snow patrol,radi...</td>\n",
       "      <td>0</td>\n",
       "      <td>0</td>\n",
       "      <td>0</td>\n",
       "      <td>0</td>\n",
       "      <td>0</td>\n",
       "      <td>0</td>\n",
       "      <td>...</td>\n",
       "      <td>0</td>\n",
       "      <td>0</td>\n",
       "      <td>0</td>\n",
       "      <td>1</td>\n",
       "      <td>0</td>\n",
       "      <td>0</td>\n",
       "      <td>0</td>\n",
       "      <td>0</td>\n",
       "      <td>0</td>\n",
       "      <td>0</td>\n",
       "    </tr>\n",
       "    <tr>\n",
       "      <th>1669</th>\n",
       "      <td>19685</td>\n",
       "      <td>Netherlands</td>\n",
       "      <td>m</td>\n",
       "      <td>philip glass,rammstein,pink floyd,moby,blank &amp;...</td>\n",
       "      <td>0</td>\n",
       "      <td>0</td>\n",
       "      <td>0</td>\n",
       "      <td>0</td>\n",
       "      <td>0</td>\n",
       "      <td>0</td>\n",
       "      <td>...</td>\n",
       "      <td>0</td>\n",
       "      <td>0</td>\n",
       "      <td>0</td>\n",
       "      <td>0</td>\n",
       "      <td>0</td>\n",
       "      <td>0</td>\n",
       "      <td>0</td>\n",
       "      <td>0</td>\n",
       "      <td>0</td>\n",
       "      <td>0</td>\n",
       "    </tr>\n",
       "    <tr>\n",
       "      <th>1670</th>\n",
       "      <td>19695</td>\n",
       "      <td>Germany</td>\n",
       "      <td>f</td>\n",
       "      <td>the kills,bright eyes,adam green,cocorosie,dev...</td>\n",
       "      <td>0</td>\n",
       "      <td>0</td>\n",
       "      <td>0</td>\n",
       "      <td>0</td>\n",
       "      <td>0</td>\n",
       "      <td>0</td>\n",
       "      <td>...</td>\n",
       "      <td>0</td>\n",
       "      <td>0</td>\n",
       "      <td>0</td>\n",
       "      <td>0</td>\n",
       "      <td>0</td>\n",
       "      <td>0</td>\n",
       "      <td>0</td>\n",
       "      <td>0</td>\n",
       "      <td>0</td>\n",
       "      <td>0</td>\n",
       "    </tr>\n",
       "  </tbody>\n",
       "</table>\n",
       "<p>1671 rows × 830 columns</p>\n",
       "</div>"
      ],
      "text/plain": [
       "       user      country sex  \\\n",
       "0         1      Germany   f   \n",
       "1        31  Netherlands   f   \n",
       "2        33      Germany   f   \n",
       "3        42      Germany   f   \n",
       "4        51      Germany   f   \n",
       "...     ...          ...  ..   \n",
       "1666  19662      Germany   m   \n",
       "1667  19672      Germany   m   \n",
       "1668  19681  Netherlands   m   \n",
       "1669  19685  Netherlands   m   \n",
       "1670  19695      Germany   f   \n",
       "\n",
       "                                                 artist  \\\n",
       "0     red hot chili peppers,the black dahlia murder,...   \n",
       "1     jamiroquai,tori amos,jazzanova,radiohead,st. g...   \n",
       "2     death cab for cutie,tegan and sara,kimya dawso...   \n",
       "3     soundtrack,groove coverage,avril lavigne,the r...   \n",
       "4     kate nash,arctic monkeys,lykke li,adele,tegan ...   \n",
       "...                                                 ...   \n",
       "1666  blind guardian,in extremo,subway to sally,finn...   \n",
       "1667  system of a down,björk,portishead,the prodigy,...   \n",
       "1668  the strokes,muse,led zeppelin,snow patrol,radi...   \n",
       "1669  philip glass,rammstein,pink floyd,moby,blank &...   \n",
       "1670  the kills,bright eyes,adam green,cocorosie,dev...   \n",
       "\n",
       "      ...and you will know us by the trail of dead  2pac  3 doors down  \\\n",
       "0                                                0     0             0   \n",
       "1                                                0     0             0   \n",
       "2                                                0     0             0   \n",
       "3                                                0     0             0   \n",
       "4                                                0     0             0   \n",
       "...                                            ...   ...           ...   \n",
       "1666                                             0     0             0   \n",
       "1667                                             0     0             0   \n",
       "1668                                             0     0             0   \n",
       "1669                                             0     0             0   \n",
       "1670                                             0     0             0   \n",
       "\n",
       "      30 seconds to mars  36 crazyfists  44  ...  venetian snares  vnv nation  \\\n",
       "0                      0              0   0  ...                0           0   \n",
       "1                      0              0   0  ...                0           0   \n",
       "2                      0              0   0  ...                0           0   \n",
       "3                      0              0   0  ...                0           0   \n",
       "4                      0              0   0  ...                0           0   \n",
       "...                  ...            ...  ..  ...              ...         ...   \n",
       "1666                   0              0   0  ...                0           0   \n",
       "1667                   0              0   0  ...                0           0   \n",
       "1668                   0              0   0  ...                0           0   \n",
       "1669                   0              0   0  ...                0           0   \n",
       "1670                   0              0   0  ...                0           0   \n",
       "\n",
       "      volbeat  weezer  within temptation  wolfgang amadeus mozart  \\\n",
       "0           0       0                  0                        0   \n",
       "1           0       0                  0                        0   \n",
       "2           0       0                  0                        0   \n",
       "3           0       0                  0                        0   \n",
       "4           0       0                  0                        0   \n",
       "...       ...     ...                ...                      ...   \n",
       "1666        0       0                  0                        1   \n",
       "1667        0       0                  0                        0   \n",
       "1668        0       1                  0                        0   \n",
       "1669        0       0                  0                        0   \n",
       "1670        0       0                  0                        0   \n",
       "\n",
       "      yann tiersen  yeah yeah yeahs  yellowcard  zero 7  \n",
       "0                0                0           0       0  \n",
       "1                0                0           0       0  \n",
       "2                0                0           0       0  \n",
       "3                0                0           0       0  \n",
       "4                0                0           0       0  \n",
       "...            ...              ...         ...     ...  \n",
       "1666             0                0           0       0  \n",
       "1667             0                0           0       0  \n",
       "1668             0                0           0       0  \n",
       "1669             0                0           0       0  \n",
       "1670             0                0           0       0  \n",
       "\n",
       "[1671 rows x 830 columns]"
      ]
     },
     "execution_count": 25,
     "metadata": {},
     "output_type": "execute_result"
    }
   ],
   "source": [
    "#dummy encoding\n",
    "dummy_data_by_user = data_by_user['artist'].str.get_dummies(',')\n",
    "dummy_data_by_user = pd.concat([data_by_user, dummy_data_by_user], axis = 1)\n",
    "dummy_data_by_user"
   ]
  },
  {
   "cell_type": "code",
   "execution_count": 26,
   "metadata": {},
   "outputs": [
    {
     "data": {
      "text/html": [
       "<div>\n",
       "<style scoped>\n",
       "    .dataframe tbody tr th:only-of-type {\n",
       "        vertical-align: middle;\n",
       "    }\n",
       "\n",
       "    .dataframe tbody tr th {\n",
       "        vertical-align: top;\n",
       "    }\n",
       "\n",
       "    .dataframe thead th {\n",
       "        text-align: right;\n",
       "    }\n",
       "</style>\n",
       "<table border=\"1\" class=\"dataframe\">\n",
       "  <thead>\n",
       "    <tr style=\"text-align: right;\">\n",
       "      <th></th>\n",
       "      <th>support</th>\n",
       "      <th>itemsets</th>\n",
       "    </tr>\n",
       "  </thead>\n",
       "  <tbody>\n",
       "    <tr>\n",
       "      <th>0</th>\n",
       "      <td>0.018552</td>\n",
       "      <td>(2pac)</td>\n",
       "    </tr>\n",
       "    <tr>\n",
       "      <th>1</th>\n",
       "      <td>0.059246</td>\n",
       "      <td>(3 doors down)</td>\n",
       "    </tr>\n",
       "    <tr>\n",
       "      <th>2</th>\n",
       "      <td>0.041891</td>\n",
       "      <td>(30 seconds to mars)</td>\n",
       "    </tr>\n",
       "    <tr>\n",
       "      <th>3</th>\n",
       "      <td>0.020347</td>\n",
       "      <td>(36 crazyfists)</td>\n",
       "    </tr>\n",
       "    <tr>\n",
       "      <th>4</th>\n",
       "      <td>0.020946</td>\n",
       "      <td>(50 cent)</td>\n",
       "    </tr>\n",
       "    <tr>\n",
       "      <th>...</th>\n",
       "      <td>...</td>\n",
       "      <td>...</td>\n",
       "    </tr>\n",
       "    <tr>\n",
       "      <th>996</th>\n",
       "      <td>0.017355</td>\n",
       "      <td>(rammstein, koяn, system of a down)</td>\n",
       "    </tr>\n",
       "    <tr>\n",
       "      <th>997</th>\n",
       "      <td>0.015560</td>\n",
       "      <td>(slipknot, koяn, system of a down)</td>\n",
       "    </tr>\n",
       "    <tr>\n",
       "      <th>998</th>\n",
       "      <td>0.016756</td>\n",
       "      <td>(rammstein, metallica, system of a down)</td>\n",
       "    </tr>\n",
       "    <tr>\n",
       "      <th>999</th>\n",
       "      <td>0.015560</td>\n",
       "      <td>(slipknot, rammstein, system of a down)</td>\n",
       "    </tr>\n",
       "    <tr>\n",
       "      <th>1000</th>\n",
       "      <td>0.015560</td>\n",
       "      <td>(rammstein, system of a down, the offspring)</td>\n",
       "    </tr>\n",
       "  </tbody>\n",
       "</table>\n",
       "<p>1001 rows × 2 columns</p>\n",
       "</div>"
      ],
      "text/plain": [
       "       support                                      itemsets\n",
       "0     0.018552                                        (2pac)\n",
       "1     0.059246                                (3 doors down)\n",
       "2     0.041891                          (30 seconds to mars)\n",
       "3     0.020347                               (36 crazyfists)\n",
       "4     0.020946                                     (50 cent)\n",
       "...        ...                                           ...\n",
       "996   0.017355           (rammstein, koяn, system of a down)\n",
       "997   0.015560            (slipknot, koяn, system of a down)\n",
       "998   0.016756      (rammstein, metallica, system of a down)\n",
       "999   0.015560       (slipknot, rammstein, system of a down)\n",
       "1000  0.015560  (rammstein, system of a down, the offspring)\n",
       "\n",
       "[1001 rows x 2 columns]"
      ]
     },
     "execution_count": 26,
     "metadata": {},
     "output_type": "execute_result"
    }
   ],
   "source": [
    "frequent_itemsets_user = apriori(dummy_data_by_user.drop(columns=['user','country', 'sex', 'artist']), \n",
    "                            min_support=0.015, use_colnames=True)\n",
    "\n",
    "frequent_itemsets_user"
   ]
  },
  {
   "cell_type": "markdown",
   "metadata": {},
   "source": [
    "## Правило 1"
   ]
  },
  {
   "cell_type": "code",
   "execution_count": 37,
   "metadata": {},
   "outputs": [],
   "source": [
    "rules_by_user = association_rules(frequent_itemsets_user, metric=\"support\", min_threshold=0.015)"
   ]
  },
  {
   "cell_type": "code",
   "execution_count": 40,
   "metadata": {},
   "outputs": [
    {
     "data": {
      "text/html": [
       "<div>\n",
       "<style scoped>\n",
       "    .dataframe tbody tr th:only-of-type {\n",
       "        vertical-align: middle;\n",
       "    }\n",
       "\n",
       "    .dataframe tbody tr th {\n",
       "        vertical-align: top;\n",
       "    }\n",
       "\n",
       "    .dataframe thead th {\n",
       "        text-align: right;\n",
       "    }\n",
       "</style>\n",
       "<table border=\"1\" class=\"dataframe\">\n",
       "  <thead>\n",
       "    <tr style=\"text-align: right;\">\n",
       "      <th></th>\n",
       "      <th>antecedents</th>\n",
       "      <th>consequents</th>\n",
       "      <th>antecedent support</th>\n",
       "      <th>consequent support</th>\n",
       "      <th>support</th>\n",
       "      <th>confidence</th>\n",
       "      <th>lift</th>\n",
       "      <th>leverage</th>\n",
       "      <th>conviction</th>\n",
       "    </tr>\n",
       "  </thead>\n",
       "  <tbody>\n",
       "    <tr>\n",
       "      <th>382</th>\n",
       "      <td>(nirvana)</td>\n",
       "      <td>(coldplay)</td>\n",
       "      <td>0.091562</td>\n",
       "      <td>0.177139</td>\n",
       "      <td>0.016158</td>\n",
       "      <td>0.176471</td>\n",
       "      <td>0.996224</td>\n",
       "      <td>-0.000061</td>\n",
       "      <td>0.999188</td>\n",
       "    </tr>\n",
       "    <tr>\n",
       "      <th>383</th>\n",
       "      <td>(coldplay)</td>\n",
       "      <td>(nirvana)</td>\n",
       "      <td>0.177139</td>\n",
       "      <td>0.091562</td>\n",
       "      <td>0.016158</td>\n",
       "      <td>0.091216</td>\n",
       "      <td>0.996224</td>\n",
       "      <td>-0.000061</td>\n",
       "      <td>0.999620</td>\n",
       "    </tr>\n",
       "    <tr>\n",
       "      <th>398</th>\n",
       "      <td>(rammstein)</td>\n",
       "      <td>(coldplay)</td>\n",
       "      <td>0.136445</td>\n",
       "      <td>0.177139</td>\n",
       "      <td>0.020946</td>\n",
       "      <td>0.153509</td>\n",
       "      <td>0.866599</td>\n",
       "      <td>-0.003224</td>\n",
       "      <td>0.972084</td>\n",
       "    </tr>\n",
       "    <tr>\n",
       "      <th>399</th>\n",
       "      <td>(coldplay)</td>\n",
       "      <td>(rammstein)</td>\n",
       "      <td>0.177139</td>\n",
       "      <td>0.136445</td>\n",
       "      <td>0.020946</td>\n",
       "      <td>0.118243</td>\n",
       "      <td>0.866599</td>\n",
       "      <td>-0.003224</td>\n",
       "      <td>0.979357</td>\n",
       "    </tr>\n",
       "  </tbody>\n",
       "</table>\n",
       "</div>"
      ],
      "text/plain": [
       "     antecedents  consequents  antecedent support  consequent support  \\\n",
       "382    (nirvana)   (coldplay)            0.091562            0.177139   \n",
       "383   (coldplay)    (nirvana)            0.177139            0.091562   \n",
       "398  (rammstein)   (coldplay)            0.136445            0.177139   \n",
       "399   (coldplay)  (rammstein)            0.177139            0.136445   \n",
       "\n",
       "      support  confidence      lift  leverage  conviction  \n",
       "382  0.016158    0.176471  0.996224 -0.000061    0.999188  \n",
       "383  0.016158    0.091216  0.996224 -0.000061    0.999620  \n",
       "398  0.020946    0.153509  0.866599 -0.003224    0.972084  \n",
       "399  0.020946    0.118243  0.866599 -0.003224    0.979357  "
      ]
     },
     "execution_count": 40,
     "metadata": {},
     "output_type": "execute_result"
    }
   ],
   "source": [
    "rules_by_user[ \n",
    "    (rules_by_user['conviction'] < 1) \n",
    "    ]"
   ]
  },
  {
   "cell_type": "markdown",
   "metadata": {},
   "source": [
    "\"Антиправила\" с lift < 1   \n",
    "Такие рекомендации делать не стоит"
   ]
  },
  {
   "cell_type": "markdown",
   "metadata": {},
   "source": [
    "## Правило 2"
   ]
  },
  {
   "cell_type": "code",
   "execution_count": 41,
   "metadata": {},
   "outputs": [
    {
     "data": {
      "text/html": [
       "<div>\n",
       "<style scoped>\n",
       "    .dataframe tbody tr th:only-of-type {\n",
       "        vertical-align: middle;\n",
       "    }\n",
       "\n",
       "    .dataframe tbody tr th {\n",
       "        vertical-align: top;\n",
       "    }\n",
       "\n",
       "    .dataframe thead th {\n",
       "        text-align: right;\n",
       "    }\n",
       "</style>\n",
       "<table border=\"1\" class=\"dataframe\">\n",
       "  <thead>\n",
       "    <tr style=\"text-align: right;\">\n",
       "      <th></th>\n",
       "      <th>antecedents</th>\n",
       "      <th>consequents</th>\n",
       "      <th>antecedent support</th>\n",
       "      <th>consequent support</th>\n",
       "      <th>support</th>\n",
       "      <th>confidence</th>\n",
       "      <th>lift</th>\n",
       "      <th>leverage</th>\n",
       "      <th>conviction</th>\n",
       "    </tr>\n",
       "  </thead>\n",
       "  <tbody>\n",
       "    <tr>\n",
       "      <th>98</th>\n",
       "      <td>(arctic monkeys)</td>\n",
       "      <td>(maxïmo park)</td>\n",
       "      <td>0.102932</td>\n",
       "      <td>0.054458</td>\n",
       "      <td>0.026930</td>\n",
       "      <td>0.261628</td>\n",
       "      <td>4.804178</td>\n",
       "      <td>0.021324</td>\n",
       "      <td>1.280576</td>\n",
       "    </tr>\n",
       "    <tr>\n",
       "      <th>258</th>\n",
       "      <td>(bloc party)</td>\n",
       "      <td>(maxïmo park)</td>\n",
       "      <td>0.089168</td>\n",
       "      <td>0.054458</td>\n",
       "      <td>0.022741</td>\n",
       "      <td>0.255034</td>\n",
       "      <td>4.683089</td>\n",
       "      <td>0.017885</td>\n",
       "      <td>1.269241</td>\n",
       "    </tr>\n",
       "    <tr>\n",
       "      <th>836</th>\n",
       "      <td>(mando diao)</td>\n",
       "      <td>(maxïmo park)</td>\n",
       "      <td>0.067624</td>\n",
       "      <td>0.054458</td>\n",
       "      <td>0.015560</td>\n",
       "      <td>0.230088</td>\n",
       "      <td>4.225032</td>\n",
       "      <td>0.011877</td>\n",
       "      <td>1.228117</td>\n",
       "    </tr>\n",
       "    <tr>\n",
       "      <th>862</th>\n",
       "      <td>(the kooks)</td>\n",
       "      <td>(maxïmo park)</td>\n",
       "      <td>0.097546</td>\n",
       "      <td>0.054458</td>\n",
       "      <td>0.021544</td>\n",
       "      <td>0.220859</td>\n",
       "      <td>4.055552</td>\n",
       "      <td>0.016232</td>\n",
       "      <td>1.213569</td>\n",
       "    </tr>\n",
       "  </tbody>\n",
       "</table>\n",
       "</div>"
      ],
      "text/plain": [
       "          antecedents    consequents  antecedent support  consequent support  \\\n",
       "98   (arctic monkeys)  (maxïmo park)            0.102932            0.054458   \n",
       "258      (bloc party)  (maxïmo park)            0.089168            0.054458   \n",
       "836      (mando diao)  (maxïmo park)            0.067624            0.054458   \n",
       "862       (the kooks)  (maxïmo park)            0.097546            0.054458   \n",
       "\n",
       "      support  confidence      lift  leverage  conviction  \n",
       "98   0.026930    0.261628  4.804178  0.021324    1.280576  \n",
       "258  0.022741    0.255034  4.683089  0.017885    1.269241  \n",
       "836  0.015560    0.230088  4.225032  0.011877    1.228117  \n",
       "862  0.021544    0.220859  4.055552  0.016232    1.213569  "
      ]
     },
     "execution_count": 41,
     "metadata": {},
     "output_type": "execute_result"
    }
   ],
   "source": [
    "rules_by_user[ \n",
    "    (rules_by_user['confidence'] > 0.2) & \n",
    "    (rules_by_user['lift'] > 1) &\n",
    "    (rules_by_user['consequents'] == {'maxïmo park'}) \n",
    "    ]"
   ]
  },
  {
   "cell_type": "markdown",
   "metadata": {},
   "source": [
    "Не самая популярная группа maxïmo park    \n",
    "Можно для продвижения рекомендовать ее пользователям, слушающим arctic monkeys, bloc party, mando diao, the kooks"
   ]
  },
  {
   "cell_type": "code",
   "execution_count": null,
   "metadata": {},
   "outputs": [],
   "source": []
  }
 ],
 "metadata": {
  "kernelspec": {
   "display_name": "Python 3",
   "language": "python",
   "name": "python3"
  },
  "language_info": {
   "codemirror_mode": {
    "name": "ipython",
    "version": 3
   },
   "file_extension": ".py",
   "mimetype": "text/x-python",
   "name": "python",
   "nbconvert_exporter": "python",
   "pygments_lexer": "ipython3",
   "version": "3.9.1"
  }
 },
 "nbformat": 4,
 "nbformat_minor": 4
}
